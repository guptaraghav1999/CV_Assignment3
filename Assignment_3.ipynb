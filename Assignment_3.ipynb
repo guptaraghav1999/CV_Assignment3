{
 "cells": [
  {
   "cell_type": "code",
   "execution_count": null,
   "metadata": {
    "id": "araVwP7NBa7b"
   },
   "outputs": [],
   "source": [
    "import time\n",
    "import copy\n",
    "import numpy as np\n",
    "import matplotlib.pyplot as plt\n",
    "\n",
    "import torch\n",
    "import torchvision\n",
    "import torch.nn as nn\n",
    "import torch.optim as optim\n",
    "import torch.nn.functional as F\n",
    "from torch.optim import lr_scheduler\n",
    "from torch.utils.data import random_split\n",
    "from torchvision.transforms import ToTensor\n",
    "from torchvision import datasets, models, transforms"
   ]
  },
  {
   "cell_type": "markdown",
   "metadata": {
    "id": "nMBWXg9PeOeY"
   },
   "source": [
    "# Init"
   ]
  },
  {
   "cell_type": "code",
   "execution_count": null,
   "metadata": {
    "colab": {
     "base_uri": "https://localhost:8080/",
     "height": 99,
     "referenced_widgets": [
      "fc8e62d7ceff4830908e1460b19845ad",
      "8c7fd39696b14f1ca7aec87654efc6e0",
      "bfd2730391ff4339ace2a892675d51b1",
      "94333ea1c38e432a8859ef69e96ae6ca",
      "6bf02340c9584edaba11acaab50ffddf",
      "ea0a89888c824c58b37b785995231455",
      "52ff5fb834764380ba6e98f432dee458",
      "355a3b34ab834e0cbc8a224f39f1e3ff"
     ]
    },
    "id": "prvpIe1VaBQz",
    "outputId": "e125efd4-e2cf-47d9-9316-ffa3df2eacae"
   },
   "outputs": [
    {
     "name": "stdout",
     "output_type": "stream",
     "text": [
      "Downloading https://www.cs.toronto.edu/~kriz/cifar-10-python.tar.gz to ./data/cifar-10-python.tar.gz\n"
     ]
    },
    {
     "data": {
      "application/vnd.jupyter.widget-view+json": {
       "model_id": "fc8e62d7ceff4830908e1460b19845ad",
       "version_major": 2,
       "version_minor": 0
      },
      "text/plain": [
       "HBox(children=(FloatProgress(value=1.0, bar_style='info', max=1.0), HTML(value='')))"
      ]
     },
     "metadata": {
      "tags": []
     },
     "output_type": "display_data"
    },
    {
     "name": "stdout",
     "output_type": "stream",
     "text": [
      "Extracting ./data/cifar-10-python.tar.gz to ./data\n",
      "Files already downloaded and verified\n"
     ]
    }
   ],
   "source": [
    "torch.manual_seed(43)\n",
    "\n",
    "transform = transforms.Compose(\n",
    "    [transforms.ToTensor(),\n",
    "     transforms.Normalize([0.485, 0.456, 0.406], [0.229, 0.224, 0.225])])\n",
    "\n",
    "dataset = torchvision.datasets.CIFAR10(root='./data', train=True, download=True, transform=transform)\n",
    "train_ds, val_ds = random_split(dataset, [40000, 10000])\n",
    "test_ds = torchvision.datasets.CIFAR10(root='./data', train=False, download=True, transform=transform)\n",
    "\n",
    "image_datasets = {'train': train_ds, 'val': val_ds, 'test': test_ds}\n",
    "\n",
    "batch_size = 128\n",
    "train_loader = torch.utils.data.DataLoader(train_ds, batch_size, shuffle=True, num_workers=4, pin_memory=True)\n",
    "val_loader = torch.utils.data.DataLoader(val_ds, batch_size*2, num_workers=4, pin_memory=True)\n",
    "test_loader = torch.utils.data.DataLoader(test_ds, batch_size*2, num_workers=4, pin_memory=True)\n",
    "\n",
    "dataloaders = {'train': train_loader, 'val': val_loader, 'test': test_loader}\n",
    "dataset_sizes = {x: len(image_datasets[x]) for x in ['train', 'val', 'test']}\n",
    "\n",
    "classes = ('plane', 'car', 'bird', 'cat', 'deer',\n",
    "           'dog', 'frog', 'horse', 'ship', 'truck')\n",
    "device = torch.device(\"cuda:0\" if torch.cuda.is_available() else \"cpu\")\n",
    "\n",
    "\n",
    "# train_transform = transforms.Compose([\n",
    "#     transforms.Resize(224),\n",
    "#     transforms.RandomHorizontalFlip(p=.40),\n",
    "#     transforms.RandomRotation(30),\n",
    "#     transforms.ToTensor(),\n",
    "#     transforms.Normalize([0.485, 0.456, 0.406], [0.229, 0.224, 0.225])])\n",
    "\n",
    "# test_transform = transforms.Compose([\n",
    "#     transforms.Resize(224),\n",
    "#     transforms.ToTensor(),\n",
    "#     transforms.Normalize([0.485, 0.456, 0.406], [0.229, 0.224, 0.225])])"
   ]
  },
  {
   "cell_type": "code",
   "execution_count": null,
   "metadata": {
    "id": "cEtasJNVQnKg"
   },
   "outputs": [],
   "source": [
    "def train_model(model, criterion, optimizer, scheduler, num_epochs, accuracy_stats, loss_stats):\n",
    "    since = time.time()\n",
    "\n",
    "    best_model_wts = copy.deepcopy(model.state_dict())\n",
    "    best_acc = 0.0\n",
    "\n",
    "    for epoch in range(num_epochs):\n",
    "        print('Epoch {}/{}'.format(epoch, num_epochs - 1))\n",
    "        print('-' * 10)\n",
    "\n",
    "        for phase in ['train', 'val']:\n",
    "            if phase == 'train':\n",
    "                model.train() \n",
    "            else:\n",
    "                model.eval()\n",
    "\n",
    "            running_loss = 0.0\n",
    "            running_corrects = 0\n",
    "\n",
    "            for inputs, labels in dataloaders[phase]:\n",
    "                inputs = inputs.to(device)\n",
    "                labels = labels.to(device)\n",
    "\n",
    "                optimizer.zero_grad()\n",
    "\n",
    "                with torch.set_grad_enabled(phase == 'train'):\n",
    "                    outputs = model(inputs)\n",
    "                    _, preds = torch.max(outputs, 1)\n",
    "                    loss = criterion(outputs, labels)\n",
    "\n",
    "                    if phase == 'train':\n",
    "                        loss.backward()\n",
    "                        optimizer.step()\n",
    "\n",
    "                running_loss += loss.item() * inputs.size(0)\n",
    "                running_corrects += torch.sum(preds == labels.data)\n",
    "            if phase == 'train':\n",
    "                scheduler.step()\n",
    "\n",
    "            epoch_loss = running_loss / dataset_sizes[phase]\n",
    "            loss_stats[phase].append(epoch_loss)\n",
    "            epoch_acc = running_corrects.double() / dataset_sizes[phase]\n",
    "            accuracy_stats[phase].append(epoch_acc)\n",
    "\n",
    "            print('{} Loss: {:.4f} Acc: {:.4f}'.format(\n",
    "                phase, epoch_loss, epoch_acc))\n",
    "\n",
    "            if phase == 'val' and epoch_acc > best_acc:\n",
    "                best_acc = epoch_acc\n",
    "                best_model_wts = copy.deepcopy(model.state_dict())\n",
    "\n",
    "        print()\n",
    "\n",
    "    time_elapsed = time.time() - since\n",
    "    print('Training complete in {:.0f}m {:.0f}s'.format(\n",
    "        time_elapsed // 60, time_elapsed % 60))\n",
    "    print('Best val Acc: {:4f}'.format(best_acc))\n",
    "\n",
    "    model.load_state_dict(best_model_wts)\n",
    "    return model"
   ]
  },
  {
   "cell_type": "code",
   "execution_count": null,
   "metadata": {
    "id": "O2JW4r-LRGN7"
   },
   "outputs": [],
   "source": [
    "def evaluate(model, phase):\n",
    "    model.eval()  \n",
    "\n",
    "    running_loss = 0.0\n",
    "    running_corrects = 0\n",
    "\n",
    "    for inputs, labels in dataloaders[phase]:\n",
    "        inputs = inputs.to(device)\n",
    "        labels = labels.to(device)\n",
    "\n",
    "        with torch.set_grad_enabled(phase == 'train'):\n",
    "            outputs = model(inputs)\n",
    "            _, preds = torch.max(outputs, 1)\n",
    "            loss = criterion(outputs, labels)\n",
    "\n",
    "        running_loss += loss.item() * inputs.size(0)\n",
    "        running_corrects += torch.sum(preds == labels.data)\n",
    "\n",
    "    epoch_loss = running_loss / dataset_sizes[phase]\n",
    "    epoch_acc = running_corrects.double() / dataset_sizes[phase]\n",
    "\n",
    "    return epoch_loss, epoch_acc    "
   ]
  },
  {
   "cell_type": "markdown",
   "metadata": {
    "id": "mmk32lyXegB9"
   },
   "source": [
    "# Part 1"
   ]
  },
  {
   "cell_type": "code",
   "execution_count": null,
   "metadata": {
    "id": "ZPkjZ4eufF_p"
   },
   "outputs": [],
   "source": [
    "model_rn = models.resnet18(pretrained=False)\n",
    "num_ftrs = model_rn.fc.in_features\n",
    "model_rn.fc = nn.Linear(num_ftrs, 10)\n",
    "\n",
    "# model_ft.fc = nn.Sequential(\n",
    "#     nn.Linear(num_ftrs, 256), nn.ReLU(), nn.Dropout(0.4),\n",
    "#     nn.Linear(256, 10), nn.LogSoftmax(dim=1))\n",
    "\n",
    "model_rn = model_rn.to(device)\n",
    "\n",
    "\n",
    "criterion = nn.CrossEntropyLoss()\n",
    "optimizer_rn = optim.Adam(model_rn.parameters(), lr=0.01)\n",
    "exp_lr_scheduler = optim.lr_scheduler.CosineAnnealingLR(optimizer_rn, T_max=200)"
   ]
  },
  {
   "cell_type": "code",
   "execution_count": null,
   "metadata": {
    "colab": {
     "base_uri": "https://localhost:8080/"
    },
    "id": "0CFwHO_-fUEJ",
    "outputId": "ecad43c8-d07d-4c9f-9bd1-eaff7d013c46"
   },
   "outputs": [
    {
     "data": {
      "text/plain": [
       "ResNet(\n",
       "  (conv1): Conv2d(3, 64, kernel_size=(7, 7), stride=(2, 2), padding=(3, 3), bias=False)\n",
       "  (bn1): BatchNorm2d(64, eps=1e-05, momentum=0.1, affine=True, track_running_stats=True)\n",
       "  (relu): ReLU(inplace=True)\n",
       "  (maxpool): MaxPool2d(kernel_size=3, stride=2, padding=1, dilation=1, ceil_mode=False)\n",
       "  (layer1): Sequential(\n",
       "    (0): BasicBlock(\n",
       "      (conv1): Conv2d(64, 64, kernel_size=(3, 3), stride=(1, 1), padding=(1, 1), bias=False)\n",
       "      (bn1): BatchNorm2d(64, eps=1e-05, momentum=0.1, affine=True, track_running_stats=True)\n",
       "      (relu): ReLU(inplace=True)\n",
       "      (conv2): Conv2d(64, 64, kernel_size=(3, 3), stride=(1, 1), padding=(1, 1), bias=False)\n",
       "      (bn2): BatchNorm2d(64, eps=1e-05, momentum=0.1, affine=True, track_running_stats=True)\n",
       "    )\n",
       "    (1): BasicBlock(\n",
       "      (conv1): Conv2d(64, 64, kernel_size=(3, 3), stride=(1, 1), padding=(1, 1), bias=False)\n",
       "      (bn1): BatchNorm2d(64, eps=1e-05, momentum=0.1, affine=True, track_running_stats=True)\n",
       "      (relu): ReLU(inplace=True)\n",
       "      (conv2): Conv2d(64, 64, kernel_size=(3, 3), stride=(1, 1), padding=(1, 1), bias=False)\n",
       "      (bn2): BatchNorm2d(64, eps=1e-05, momentum=0.1, affine=True, track_running_stats=True)\n",
       "    )\n",
       "  )\n",
       "  (layer2): Sequential(\n",
       "    (0): BasicBlock(\n",
       "      (conv1): Conv2d(64, 128, kernel_size=(3, 3), stride=(2, 2), padding=(1, 1), bias=False)\n",
       "      (bn1): BatchNorm2d(128, eps=1e-05, momentum=0.1, affine=True, track_running_stats=True)\n",
       "      (relu): ReLU(inplace=True)\n",
       "      (conv2): Conv2d(128, 128, kernel_size=(3, 3), stride=(1, 1), padding=(1, 1), bias=False)\n",
       "      (bn2): BatchNorm2d(128, eps=1e-05, momentum=0.1, affine=True, track_running_stats=True)\n",
       "      (downsample): Sequential(\n",
       "        (0): Conv2d(64, 128, kernel_size=(1, 1), stride=(2, 2), bias=False)\n",
       "        (1): BatchNorm2d(128, eps=1e-05, momentum=0.1, affine=True, track_running_stats=True)\n",
       "      )\n",
       "    )\n",
       "    (1): BasicBlock(\n",
       "      (conv1): Conv2d(128, 128, kernel_size=(3, 3), stride=(1, 1), padding=(1, 1), bias=False)\n",
       "      (bn1): BatchNorm2d(128, eps=1e-05, momentum=0.1, affine=True, track_running_stats=True)\n",
       "      (relu): ReLU(inplace=True)\n",
       "      (conv2): Conv2d(128, 128, kernel_size=(3, 3), stride=(1, 1), padding=(1, 1), bias=False)\n",
       "      (bn2): BatchNorm2d(128, eps=1e-05, momentum=0.1, affine=True, track_running_stats=True)\n",
       "    )\n",
       "  )\n",
       "  (layer3): Sequential(\n",
       "    (0): BasicBlock(\n",
       "      (conv1): Conv2d(128, 256, kernel_size=(3, 3), stride=(2, 2), padding=(1, 1), bias=False)\n",
       "      (bn1): BatchNorm2d(256, eps=1e-05, momentum=0.1, affine=True, track_running_stats=True)\n",
       "      (relu): ReLU(inplace=True)\n",
       "      (conv2): Conv2d(256, 256, kernel_size=(3, 3), stride=(1, 1), padding=(1, 1), bias=False)\n",
       "      (bn2): BatchNorm2d(256, eps=1e-05, momentum=0.1, affine=True, track_running_stats=True)\n",
       "      (downsample): Sequential(\n",
       "        (0): Conv2d(128, 256, kernel_size=(1, 1), stride=(2, 2), bias=False)\n",
       "        (1): BatchNorm2d(256, eps=1e-05, momentum=0.1, affine=True, track_running_stats=True)\n",
       "      )\n",
       "    )\n",
       "    (1): BasicBlock(\n",
       "      (conv1): Conv2d(256, 256, kernel_size=(3, 3), stride=(1, 1), padding=(1, 1), bias=False)\n",
       "      (bn1): BatchNorm2d(256, eps=1e-05, momentum=0.1, affine=True, track_running_stats=True)\n",
       "      (relu): ReLU(inplace=True)\n",
       "      (conv2): Conv2d(256, 256, kernel_size=(3, 3), stride=(1, 1), padding=(1, 1), bias=False)\n",
       "      (bn2): BatchNorm2d(256, eps=1e-05, momentum=0.1, affine=True, track_running_stats=True)\n",
       "    )\n",
       "  )\n",
       "  (layer4): Sequential(\n",
       "    (0): BasicBlock(\n",
       "      (conv1): Conv2d(256, 512, kernel_size=(3, 3), stride=(2, 2), padding=(1, 1), bias=False)\n",
       "      (bn1): BatchNorm2d(512, eps=1e-05, momentum=0.1, affine=True, track_running_stats=True)\n",
       "      (relu): ReLU(inplace=True)\n",
       "      (conv2): Conv2d(512, 512, kernel_size=(3, 3), stride=(1, 1), padding=(1, 1), bias=False)\n",
       "      (bn2): BatchNorm2d(512, eps=1e-05, momentum=0.1, affine=True, track_running_stats=True)\n",
       "      (downsample): Sequential(\n",
       "        (0): Conv2d(256, 512, kernel_size=(1, 1), stride=(2, 2), bias=False)\n",
       "        (1): BatchNorm2d(512, eps=1e-05, momentum=0.1, affine=True, track_running_stats=True)\n",
       "      )\n",
       "    )\n",
       "    (1): BasicBlock(\n",
       "      (conv1): Conv2d(512, 512, kernel_size=(3, 3), stride=(1, 1), padding=(1, 1), bias=False)\n",
       "      (bn1): BatchNorm2d(512, eps=1e-05, momentum=0.1, affine=True, track_running_stats=True)\n",
       "      (relu): ReLU(inplace=True)\n",
       "      (conv2): Conv2d(512, 512, kernel_size=(3, 3), stride=(1, 1), padding=(1, 1), bias=False)\n",
       "      (bn2): BatchNorm2d(512, eps=1e-05, momentum=0.1, affine=True, track_running_stats=True)\n",
       "    )\n",
       "  )\n",
       "  (avgpool): AdaptiveAvgPool2d(output_size=(1, 1))\n",
       "  (fc): Linear(in_features=512, out_features=10, bias=True)\n",
       ")"
      ]
     },
     "execution_count": 6,
     "metadata": {
      "tags": []
     },
     "output_type": "execute_result"
    }
   ],
   "source": [
    "model_rn"
   ]
  },
  {
   "cell_type": "code",
   "execution_count": null,
   "metadata": {
    "colab": {
     "base_uri": "https://localhost:8080/"
    },
    "id": "MoO6l0Rmfiej",
    "outputId": "facd9d74-3146-445f-cd95-60d8c019bcf6"
   },
   "outputs": [
    {
     "name": "stdout",
     "output_type": "stream",
     "text": [
      "Epoch 0/19\n",
      "----------\n",
      "train Loss: 1.8218 Acc: 0.3584\n",
      "val Loss: 1.4708 Acc: 0.4644\n",
      "\n",
      "Epoch 1/19\n",
      "----------\n",
      "train Loss: 1.3544 Acc: 0.5164\n",
      "val Loss: 1.4791 Acc: 0.5473\n",
      "\n",
      "Epoch 2/19\n",
      "----------\n",
      "train Loss: 1.0879 Acc: 0.6133\n",
      "val Loss: 1.1385 Acc: 0.5948\n",
      "\n",
      "Epoch 3/19\n",
      "----------\n",
      "train Loss: 0.9052 Acc: 0.6790\n",
      "val Loss: 0.9095 Acc: 0.6782\n",
      "\n",
      "Epoch 4/19\n",
      "----------\n",
      "train Loss: 0.7669 Acc: 0.7315\n",
      "val Loss: 0.9572 Acc: 0.6716\n",
      "\n",
      "Epoch 5/19\n",
      "----------\n",
      "train Loss: 0.6642 Acc: 0.7682\n",
      "val Loss: 0.9631 Acc: 0.6782\n",
      "\n",
      "Epoch 6/19\n",
      "----------\n",
      "train Loss: 0.5600 Acc: 0.8036\n",
      "val Loss: 0.8472 Acc: 0.7137\n",
      "\n",
      "Epoch 7/19\n",
      "----------\n",
      "train Loss: 0.4677 Acc: 0.8377\n",
      "val Loss: 0.8824 Acc: 0.7189\n",
      "\n",
      "Epoch 8/19\n",
      "----------\n",
      "train Loss: 0.3920 Acc: 0.8653\n",
      "val Loss: 0.9103 Acc: 0.7221\n",
      "\n",
      "Epoch 9/19\n",
      "----------\n",
      "train Loss: 0.3180 Acc: 0.8904\n",
      "val Loss: 0.9503 Acc: 0.7186\n",
      "\n",
      "Epoch 10/19\n",
      "----------\n",
      "train Loss: 0.2549 Acc: 0.9112\n",
      "val Loss: 1.0068 Acc: 0.7221\n",
      "\n",
      "Epoch 11/19\n",
      "----------\n",
      "train Loss: 0.2084 Acc: 0.9278\n",
      "val Loss: 1.0979 Acc: 0.7267\n",
      "\n",
      "Epoch 12/19\n",
      "----------\n",
      "train Loss: 0.1775 Acc: 0.9381\n",
      "val Loss: 1.1092 Acc: 0.7351\n",
      "\n",
      "Epoch 13/19\n",
      "----------\n",
      "train Loss: 0.1474 Acc: 0.9485\n",
      "val Loss: 1.2357 Acc: 0.7197\n",
      "\n",
      "Epoch 14/19\n",
      "----------\n",
      "train Loss: 0.1300 Acc: 0.9555\n",
      "val Loss: 1.2816 Acc: 0.7220\n",
      "\n",
      "Epoch 15/19\n",
      "----------\n",
      "train Loss: 0.1088 Acc: 0.9622\n",
      "val Loss: 1.2336 Acc: 0.7308\n",
      "\n",
      "Epoch 16/19\n",
      "----------\n",
      "train Loss: 0.1044 Acc: 0.9647\n",
      "val Loss: 1.3287 Acc: 0.7229\n",
      "\n",
      "Epoch 17/19\n",
      "----------\n",
      "train Loss: 0.0990 Acc: 0.9660\n",
      "val Loss: 1.2490 Acc: 0.7285\n",
      "\n",
      "Epoch 18/19\n",
      "----------\n",
      "train Loss: 0.0859 Acc: 0.9705\n",
      "val Loss: 1.2783 Acc: 0.7311\n",
      "\n",
      "Epoch 19/19\n",
      "----------\n",
      "train Loss: 0.0811 Acc: 0.9724\n",
      "val Loss: 1.3736 Acc: 0.7276\n",
      "\n",
      "Training complete in 6m 23s\n",
      "Best val Acc: 0.735100\n"
     ]
    }
   ],
   "source": [
    "accuracy_rn = {'train': [], 'val': []}\n",
    "loss_rn = {'train': [], 'val': []}\n",
    "num_epochs = 20\n",
    "model_rn = train_model(model_rn, criterion, optimizer_rn, exp_lr_scheduler, num_epochs, accuracy_rn, loss_rn)"
   ]
  },
  {
   "cell_type": "code",
   "execution_count": null,
   "metadata": {
    "colab": {
     "base_uri": "https://localhost:8080/",
     "height": 299
    },
    "id": "UQbzrZFHjWBs",
    "outputId": "1ded77e0-1113-4abb-d0b9-3e75c95b430c"
   },
   "outputs": [
    {
     "data": {
      "text/plain": [
       "<matplotlib.legend.Legend at 0x7fd320311b38>"
      ]
     },
     "execution_count": 9,
     "metadata": {
      "tags": []
     },
     "output_type": "execute_result"
    },
    {
     "data": {
      "image/png": "[encoded data removed]",
      "text/plain": [
       "<Figure size 432x288 with 1 Axes>"
      ]
     },
     "metadata": {
      "needs_background": "light",
      "tags": []
     },
     "output_type": "display_data"
    }
   ],
   "source": [
    "plt.plot(accuracy_rn['train'], label='Training Accuracy')\n",
    "plt.plot(accuracy_rn['val'], label='Validation Accuracy')\n",
    "plt.xlabel('Epochs')\n",
    "plt.ylabel('Accuracy')\n",
    "plt.legend()"
   ]
  },
  {
   "cell_type": "code",
   "execution_count": null,
   "metadata": {
    "colab": {
     "base_uri": "https://localhost:8080/",
     "height": 296
    },
    "id": "u1QQwzzejZil",
    "outputId": "9519088c-6d6f-46f1-82e3-a37ccf2a4a15"
   },
   "outputs": [
    {
     "data": {
      "text/plain": [
       "<matplotlib.legend.Legend at 0x7fd32004db70>"
      ]
     },
     "execution_count": 10,
     "metadata": {
      "tags": []
     },
     "output_type": "execute_result"
    },
    {
     "data": {
      "image/png": "[encoded data removed]",
      "text/plain": [
       "<Figure size 432x288 with 1 Axes>"
      ]
     },
     "metadata": {
      "needs_background": "light",
      "tags": []
     },
     "output_type": "display_data"
    }
   ],
   "source": [
    "plt.plot(loss_rn['train'], label='Training Loss')\n",
    "plt.plot(loss_rn['val'], label='Validation Loss')\n",
    "plt.xlabel('Epochs')\n",
    "plt.ylabel('Loss')\n",
    "plt.legend()"
   ]
  },
  {
   "cell_type": "code",
   "execution_count": null,
   "metadata": {
    "colab": {
     "base_uri": "https://localhost:8080/"
    },
    "id": "sC56n7lIFU4T",
    "outputId": "e2522f2c-7fa8-4ce8-c31b-4b1e7052766f"
   },
   "outputs": [
    {
     "name": "stdout",
     "output_type": "stream",
     "text": [
      "Training  Accuracy:   0.970\n",
      "Validation Accuracy:  0.735\n",
      "Testing Accuracy:     0.734\n"
     ]
    }
   ],
   "source": [
    "_, train_acc_rn = evaluate(model_rn, 'train')\n",
    "_, val_acc_rn = evaluate(model_rn, 'val')\n",
    "_, test_acc_rn = evaluate(model_rn, 'test')\n",
    "\n",
    "print('Training  Accuracy:   %.3f' % train_acc_rn)\n",
    "print('Validation Accuracy:  %.3f' % val_acc_rn)\n",
    "print('Testing Accuracy:     %.3f' % test_acc_rn)"
   ]
  },
  {
   "cell_type": "markdown",
   "metadata": {
    "id": "5DsugBLXjPqD"
   },
   "source": [
    "# Part 2"
   ]
  },
  {
   "cell_type": "markdown",
   "metadata": {
    "id": "dzPu98s4YS3N"
   },
   "source": [
    "Finetuning CONVNet"
   ]
  },
  {
   "cell_type": "code",
   "execution_count": null,
   "metadata": {
    "colab": {
     "base_uri": "https://localhost:8080/",
     "height": 82,
     "referenced_widgets": [
      "0595cc0e772b4673849fffcba4ccace1",
      "686021657a814eeba7651866fb9b23aa",
      "0bb3cf2a8e7548cca6a8fc200077f6b9",
      "9e8dfa99184f45d3ba30a58c81308f7c",
      "7a05dd463bda4d50b3bd8433c33adb39",
      "979d5d1807864943a702ed944bf913fd",
      "ee353b4fe9b84ac8a390b4fd6774678f",
      "954969f5f7294ef983f0f2a7d679ad49"
     ]
    },
    "id": "x6ujNiWpPHoh",
    "outputId": "3b7c0b68-5a68-41be-e5e8-8c4f336dc308"
   },
   "outputs": [
    {
     "name": "stderr",
     "output_type": "stream",
     "text": [
      "Downloading: \"https://download.pytorch.org/models/resnet18-5c106cde.pth\" to /root/.cache/torch/hub/checkpoints/resnet18-5c106cde.pth\n"
     ]
    },
    {
     "data": {
      "application/vnd.jupyter.widget-view+json": {
       "model_id": "0595cc0e772b4673849fffcba4ccace1",
       "version_major": 2,
       "version_minor": 0
      },
      "text/plain": [
       "HBox(children=(FloatProgress(value=0.0, max=46827520.0), HTML(value='')))"
      ]
     },
     "metadata": {
      "tags": []
     },
     "output_type": "display_data"
    },
    {
     "name": "stdout",
     "output_type": "stream",
     "text": [
      "\n"
     ]
    }
   ],
   "source": [
    "model_ft = models.resnet18(pretrained=True)\n",
    "num_ftrs = model_ft.fc.in_features\n",
    "model_ft.fc = nn.Linear(num_ftrs, 10)\n",
    "\n",
    "# model_ft.fc = nn.Sequential(\n",
    "#     nn.Dropout(),\n",
    "#     nn.Linear(num_ftrs, 10))\n",
    "\n",
    "model_ft = model_ft.to(device)\n",
    "\n",
    "\n",
    "criterion = nn.CrossEntropyLoss()\n",
    "optimizer_ft = optim.Adam(model_ft.parameters(), lr=0.001)\n",
    "exp_lr_scheduler = optim.lr_scheduler.CosineAnnealingLR(optimizer_ft, T_max=200)"
   ]
  },
  {
   "cell_type": "code",
   "execution_count": null,
   "metadata": {
    "colab": {
     "base_uri": "https://localhost:8080/"
    },
    "id": "pAAajBXMwPYO",
    "outputId": "89781c3e-2cef-4ee9-f6a3-40f1c65b2f82"
   },
   "outputs": [
    {
     "data": {
      "text/plain": [
       "ResNet(\n",
       "  (conv1): Conv2d(3, 64, kernel_size=(7, 7), stride=(2, 2), padding=(3, 3), bias=False)\n",
       "  (bn1): BatchNorm2d(64, eps=1e-05, momentum=0.1, affine=True, track_running_stats=True)\n",
       "  (relu): ReLU(inplace=True)\n",
       "  (maxpool): MaxPool2d(kernel_size=3, stride=2, padding=1, dilation=1, ceil_mode=False)\n",
       "  (layer1): Sequential(\n",
       "    (0): BasicBlock(\n",
       "      (conv1): Conv2d(64, 64, kernel_size=(3, 3), stride=(1, 1), padding=(1, 1), bias=False)\n",
       "      (bn1): BatchNorm2d(64, eps=1e-05, momentum=0.1, affine=True, track_running_stats=True)\n",
       "      (relu): ReLU(inplace=True)\n",
       "      (conv2): Conv2d(64, 64, kernel_size=(3, 3), stride=(1, 1), padding=(1, 1), bias=False)\n",
       "      (bn2): BatchNorm2d(64, eps=1e-05, momentum=0.1, affine=True, track_running_stats=True)\n",
       "    )\n",
       "    (1): BasicBlock(\n",
       "      (conv1): Conv2d(64, 64, kernel_size=(3, 3), stride=(1, 1), padding=(1, 1), bias=False)\n",
       "      (bn1): BatchNorm2d(64, eps=1e-05, momentum=0.1, affine=True, track_running_stats=True)\n",
       "      (relu): ReLU(inplace=True)\n",
       "      (conv2): Conv2d(64, 64, kernel_size=(3, 3), stride=(1, 1), padding=(1, 1), bias=False)\n",
       "      (bn2): BatchNorm2d(64, eps=1e-05, momentum=0.1, affine=True, track_running_stats=True)\n",
       "    )\n",
       "  )\n",
       "  (layer2): Sequential(\n",
       "    (0): BasicBlock(\n",
       "      (conv1): Conv2d(64, 128, kernel_size=(3, 3), stride=(2, 2), padding=(1, 1), bias=False)\n",
       "      (bn1): BatchNorm2d(128, eps=1e-05, momentum=0.1, affine=True, track_running_stats=True)\n",
       "      (relu): ReLU(inplace=True)\n",
       "      (conv2): Conv2d(128, 128, kernel_size=(3, 3), stride=(1, 1), padding=(1, 1), bias=False)\n",
       "      (bn2): BatchNorm2d(128, eps=1e-05, momentum=0.1, affine=True, track_running_stats=True)\n",
       "      (downsample): Sequential(\n",
       "        (0): Conv2d(64, 128, kernel_size=(1, 1), stride=(2, 2), bias=False)\n",
       "        (1): BatchNorm2d(128, eps=1e-05, momentum=0.1, affine=True, track_running_stats=True)\n",
       "      )\n",
       "    )\n",
       "    (1): BasicBlock(\n",
       "      (conv1): Conv2d(128, 128, kernel_size=(3, 3), stride=(1, 1), padding=(1, 1), bias=False)\n",
       "      (bn1): BatchNorm2d(128, eps=1e-05, momentum=0.1, affine=True, track_running_stats=True)\n",
       "      (relu): ReLU(inplace=True)\n",
       "      (conv2): Conv2d(128, 128, kernel_size=(3, 3), stride=(1, 1), padding=(1, 1), bias=False)\n",
       "      (bn2): BatchNorm2d(128, eps=1e-05, momentum=0.1, affine=True, track_running_stats=True)\n",
       "    )\n",
       "  )\n",
       "  (layer3): Sequential(\n",
       "    (0): BasicBlock(\n",
       "      (conv1): Conv2d(128, 256, kernel_size=(3, 3), stride=(2, 2), padding=(1, 1), bias=False)\n",
       "      (bn1): BatchNorm2d(256, eps=1e-05, momentum=0.1, affine=True, track_running_stats=True)\n",
       "      (relu): ReLU(inplace=True)\n",
       "      (conv2): Conv2d(256, 256, kernel_size=(3, 3), stride=(1, 1), padding=(1, 1), bias=False)\n",
       "      (bn2): BatchNorm2d(256, eps=1e-05, momentum=0.1, affine=True, track_running_stats=True)\n",
       "      (downsample): Sequential(\n",
       "        (0): Conv2d(128, 256, kernel_size=(1, 1), stride=(2, 2), bias=False)\n",
       "        (1): BatchNorm2d(256, eps=1e-05, momentum=0.1, affine=True, track_running_stats=True)\n",
       "      )\n",
       "    )\n",
       "    (1): BasicBlock(\n",
       "      (conv1): Conv2d(256, 256, kernel_size=(3, 3), stride=(1, 1), padding=(1, 1), bias=False)\n",
       "      (bn1): BatchNorm2d(256, eps=1e-05, momentum=0.1, affine=True, track_running_stats=True)\n",
       "      (relu): ReLU(inplace=True)\n",
       "      (conv2): Conv2d(256, 256, kernel_size=(3, 3), stride=(1, 1), padding=(1, 1), bias=False)\n",
       "      (bn2): BatchNorm2d(256, eps=1e-05, momentum=0.1, affine=True, track_running_stats=True)\n",
       "    )\n",
       "  )\n",
       "  (layer4): Sequential(\n",
       "    (0): BasicBlock(\n",
       "      (conv1): Conv2d(256, 512, kernel_size=(3, 3), stride=(2, 2), padding=(1, 1), bias=False)\n",
       "      (bn1): BatchNorm2d(512, eps=1e-05, momentum=0.1, affine=True, track_running_stats=True)\n",
       "      (relu): ReLU(inplace=True)\n",
       "      (conv2): Conv2d(512, 512, kernel_size=(3, 3), stride=(1, 1), padding=(1, 1), bias=False)\n",
       "      (bn2): BatchNorm2d(512, eps=1e-05, momentum=0.1, affine=True, track_running_stats=True)\n",
       "      (downsample): Sequential(\n",
       "        (0): Conv2d(256, 512, kernel_size=(1, 1), stride=(2, 2), bias=False)\n",
       "        (1): BatchNorm2d(512, eps=1e-05, momentum=0.1, affine=True, track_running_stats=True)\n",
       "      )\n",
       "    )\n",
       "    (1): BasicBlock(\n",
       "      (conv1): Conv2d(512, 512, kernel_size=(3, 3), stride=(1, 1), padding=(1, 1), bias=False)\n",
       "      (bn1): BatchNorm2d(512, eps=1e-05, momentum=0.1, affine=True, track_running_stats=True)\n",
       "      (relu): ReLU(inplace=True)\n",
       "      (conv2): Conv2d(512, 512, kernel_size=(3, 3), stride=(1, 1), padding=(1, 1), bias=False)\n",
       "      (bn2): BatchNorm2d(512, eps=1e-05, momentum=0.1, affine=True, track_running_stats=True)\n",
       "    )\n",
       "  )\n",
       "  (avgpool): AdaptiveAvgPool2d(output_size=(1, 1))\n",
       "  (fc): Linear(in_features=512, out_features=10, bias=True)\n",
       ")"
      ]
     },
     "execution_count": 13,
     "metadata": {
      "tags": []
     },
     "output_type": "execute_result"
    }
   ],
   "source": [
    "model_ft"
   ]
  },
  {
   "cell_type": "code",
   "execution_count": null,
   "metadata": {
    "colab": {
     "base_uri": "https://localhost:8080/"
    },
    "id": "8uskr8ZrPU_d",
    "outputId": "af8a0378-2814-4a50-fa6e-d55ab22f78a2"
   },
   "outputs": [
    {
     "name": "stdout",
     "output_type": "stream",
     "text": [
      "Epoch 0/19\n",
      "----------\n",
      "train Loss: 0.9315 Acc: 0.6824\n",
      "val Loss: 0.8008 Acc: 0.7244\n",
      "\n",
      "Epoch 1/19\n",
      "----------\n",
      "train Loss: 0.5961 Acc: 0.7987\n",
      "val Loss: 0.6530 Acc: 0.7817\n",
      "\n",
      "Epoch 2/19\n",
      "----------\n",
      "train Loss: 0.4593 Acc: 0.8439\n",
      "val Loss: 0.6430 Acc: 0.7847\n",
      "\n",
      "Epoch 3/19\n",
      "----------\n",
      "train Loss: 0.3616 Acc: 0.8769\n",
      "val Loss: 0.6548 Acc: 0.7891\n",
      "\n",
      "Epoch 4/19\n",
      "----------\n",
      "train Loss: 0.2810 Acc: 0.9048\n",
      "val Loss: 0.6415 Acc: 0.8060\n",
      "\n",
      "Epoch 5/19\n",
      "----------\n",
      "train Loss: 0.2249 Acc: 0.9245\n",
      "val Loss: 0.7213 Acc: 0.7888\n",
      "\n",
      "Epoch 6/19\n",
      "----------\n",
      "train Loss: 0.1877 Acc: 0.9370\n",
      "val Loss: 0.7289 Acc: 0.7975\n",
      "\n",
      "Epoch 7/19\n",
      "----------\n",
      "train Loss: 0.1429 Acc: 0.9516\n",
      "val Loss: 0.7597 Acc: 0.7961\n",
      "\n",
      "Epoch 8/19\n",
      "----------\n",
      "train Loss: 0.1275 Acc: 0.9565\n",
      "val Loss: 0.7981 Acc: 0.7969\n",
      "\n",
      "Epoch 9/19\n",
      "----------\n",
      "train Loss: 0.1050 Acc: 0.9644\n",
      "val Loss: 0.8372 Acc: 0.7969\n",
      "\n",
      "Epoch 10/19\n",
      "----------\n",
      "train Loss: 0.1016 Acc: 0.9654\n",
      "val Loss: 0.8712 Acc: 0.7949\n",
      "\n",
      "Epoch 11/19\n",
      "----------\n",
      "train Loss: 0.0824 Acc: 0.9720\n",
      "val Loss: 0.8381 Acc: 0.8043\n",
      "\n",
      "Epoch 12/19\n",
      "----------\n",
      "train Loss: 0.0767 Acc: 0.9744\n",
      "val Loss: 0.8253 Acc: 0.7971\n",
      "\n",
      "Epoch 13/19\n",
      "----------\n",
      "train Loss: 0.0719 Acc: 0.9761\n",
      "val Loss: 0.8425 Acc: 0.7994\n",
      "\n",
      "Epoch 14/19\n",
      "----------\n",
      "train Loss: 0.0658 Acc: 0.9776\n",
      "val Loss: 0.8664 Acc: 0.8003\n",
      "\n",
      "Epoch 15/19\n",
      "----------\n",
      "train Loss: 0.0629 Acc: 0.9788\n",
      "val Loss: 0.8184 Acc: 0.8072\n",
      "\n",
      "Epoch 16/19\n",
      "----------\n",
      "train Loss: 0.0526 Acc: 0.9827\n",
      "val Loss: 0.9079 Acc: 0.8014\n",
      "\n",
      "Epoch 17/19\n",
      "----------\n",
      "train Loss: 0.0543 Acc: 0.9811\n",
      "val Loss: 0.9198 Acc: 0.7972\n",
      "\n",
      "Epoch 18/19\n",
      "----------\n",
      "train Loss: 0.0519 Acc: 0.9824\n",
      "val Loss: 0.8164 Acc: 0.8119\n",
      "\n",
      "Epoch 19/19\n",
      "----------\n",
      "train Loss: 0.0650 Acc: 0.9778\n",
      "val Loss: 0.8908 Acc: 0.8021\n",
      "\n",
      "Training complete in 6m 25s\n",
      "Best val Acc: 0.811900\n"
     ]
    }
   ],
   "source": [
    "accuracy_ft = {'train': [], 'val': []}\n",
    "loss_ft = {'train': [], 'val': []}\n",
    "num_epochs = 20\n",
    "model_ft = train_model(model_ft, criterion, optimizer_ft, exp_lr_scheduler, num_epochs, accuracy_ft, loss_ft)"
   ]
  },
  {
   "cell_type": "code",
   "execution_count": null,
   "metadata": {
    "colab": {
     "base_uri": "https://localhost:8080/",
     "height": 296
    },
    "id": "jtMHh3DkLGGd",
    "outputId": "49e9fc8f-936c-4ed8-e5de-bab575b156d1"
   },
   "outputs": [
    {
     "data": {
      "text/plain": [
       "<matplotlib.legend.Legend at 0x7fd2c8d935f8>"
      ]
     },
     "execution_count": 15,
     "metadata": {
      "tags": []
     },
     "output_type": "execute_result"
    },
    {
     "data": {
      "image/png": "[encoded data removed]",
      "text/plain": [
       "<Figure size 432x288 with 1 Axes>"
      ]
     },
     "metadata": {
      "needs_background": "light",
      "tags": []
     },
     "output_type": "display_data"
    }
   ],
   "source": [
    "plt.plot(accuracy_ft['train'], label='Training Accuracy')\n",
    "plt.plot(accuracy_ft['val'], label='Validation Accuracy')\n",
    "plt.xlabel('Epochs')\n",
    "plt.ylabel('Accuracy')\n",
    "plt.legend()"
   ]
  },
  {
   "cell_type": "code",
   "execution_count": null,
   "metadata": {
    "colab": {
     "base_uri": "https://localhost:8080/",
     "height": 296
    },
    "id": "f0dPL-n3LUx4",
    "outputId": "7525f655-2811-400d-8391-7844d1b1e25b"
   },
   "outputs": [
    {
     "data": {
      "text/plain": [
       "<matplotlib.legend.Legend at 0x7fd2c9722a20>"
      ]
     },
     "execution_count": 16,
     "metadata": {
      "tags": []
     },
     "output_type": "execute_result"
    },
    {
     "data": {
      "image/png": "[encoded data removed]",
      "text/plain": [
       "<Figure size 432x288 with 1 Axes>"
      ]
     },
     "metadata": {
      "needs_background": "light",
      "tags": []
     },
     "output_type": "display_data"
    }
   ],
   "source": [
    "plt.plot(loss_ft['train'], label='Training Loss')\n",
    "plt.plot(loss_ft['val'], label='Validation Loss')\n",
    "plt.xlabel('Epochs')\n",
    "plt.ylabel('Loss')\n",
    "plt.legend()"
   ]
  },
  {
   "cell_type": "code",
   "execution_count": null,
   "metadata": {
    "colab": {
     "base_uri": "https://localhost:8080/"
    },
    "id": "ptTgQ8F8UG6i",
    "outputId": "df0ff20d-ea18-451e-defc-89fed7769ef0"
   },
   "outputs": [
    {
     "name": "stdout",
     "output_type": "stream",
     "text": [
      "Training  Accuracy:   0.992\n",
      "Validation Accuracy:  0.812\n",
      "Testing Accuracy:     0.803\n"
     ]
    }
   ],
   "source": [
    "_, train_acc_ft = evaluate(model_ft, 'train')\n",
    "_, val_acc_ft = evaluate(model_ft, 'val')\n",
    "_, test_acc_ft = evaluate(model_ft, 'test')\n",
    "\n",
    "print('Training  Accuracy:   %.3f' % train_acc_ft)\n",
    "print('Validation Accuracy:  %.3f' % val_acc_ft)\n",
    "print('Testing Accuracy:     %.3f' % test_acc_ft)"
   ]
  },
  {
   "cell_type": "markdown",
   "metadata": {
    "id": "GAH-dAJSYfjj"
   },
   "source": [
    "ConvNet as fixed feature extractor (Model A)"
   ]
  },
  {
   "cell_type": "code",
   "execution_count": null,
   "metadata": {
    "id": "M7c7JhGqSYHg"
   },
   "outputs": [],
   "source": [
    "model_conv = torchvision.models.resnet18(pretrained=True)\n",
    "\n",
    "count = 0\n",
    "for name, child in model_conv.named_children():\n",
    "    count += 1\n",
    "    if count < 6:\n",
    "        for name2, params in child.named_parameters():\n",
    "            params.requires_grad = False\n",
    "\n",
    "\n",
    "num_ftrs = model_conv.fc.in_features\n",
    "model_conv.fc = nn.Sequential(\n",
    "    nn.Linear(num_ftrs, 256), nn.ReLU(), nn.Dropout(0.2),\n",
    "    nn.Linear(256, 10))\n",
    "\n",
    "# model_conv.fc = nn.Linear(num_ftrs, 10)\n",
    "\n",
    "model_conv = model_conv.to(device)\n",
    "\n",
    "criterion = nn.CrossEntropyLoss()\n",
    "\n",
    "optimizer_conv = optim.Adam(model_conv.parameters(), lr=0.001)\n",
    "\n",
    "exp_lr_scheduler = optim.lr_scheduler.CosineAnnealingLR(optimizer_conv, T_max=200)"
   ]
  },
  {
   "cell_type": "code",
   "execution_count": null,
   "metadata": {
    "colab": {
     "base_uri": "https://localhost:8080/"
    },
    "id": "bRL_IRnzycw_",
    "outputId": "6aaeffbd-650e-4b1f-94d7-7777070de761"
   },
   "outputs": [
    {
     "data": {
      "text/plain": [
       "ResNet(\n",
       "  (conv1): Conv2d(3, 64, kernel_size=(7, 7), stride=(2, 2), padding=(3, 3), bias=False)\n",
       "  (bn1): BatchNorm2d(64, eps=1e-05, momentum=0.1, affine=True, track_running_stats=True)\n",
       "  (relu): ReLU(inplace=True)\n",
       "  (maxpool): MaxPool2d(kernel_size=3, stride=2, padding=1, dilation=1, ceil_mode=False)\n",
       "  (layer1): Sequential(\n",
       "    (0): BasicBlock(\n",
       "      (conv1): Conv2d(64, 64, kernel_size=(3, 3), stride=(1, 1), padding=(1, 1), bias=False)\n",
       "      (bn1): BatchNorm2d(64, eps=1e-05, momentum=0.1, affine=True, track_running_stats=True)\n",
       "      (relu): ReLU(inplace=True)\n",
       "      (conv2): Conv2d(64, 64, kernel_size=(3, 3), stride=(1, 1), padding=(1, 1), bias=False)\n",
       "      (bn2): BatchNorm2d(64, eps=1e-05, momentum=0.1, affine=True, track_running_stats=True)\n",
       "    )\n",
       "    (1): BasicBlock(\n",
       "      (conv1): Conv2d(64, 64, kernel_size=(3, 3), stride=(1, 1), padding=(1, 1), bias=False)\n",
       "      (bn1): BatchNorm2d(64, eps=1e-05, momentum=0.1, affine=True, track_running_stats=True)\n",
       "      (relu): ReLU(inplace=True)\n",
       "      (conv2): Conv2d(64, 64, kernel_size=(3, 3), stride=(1, 1), padding=(1, 1), bias=False)\n",
       "      (bn2): BatchNorm2d(64, eps=1e-05, momentum=0.1, affine=True, track_running_stats=True)\n",
       "    )\n",
       "  )\n",
       "  (layer2): Sequential(\n",
       "    (0): BasicBlock(\n",
       "      (conv1): Conv2d(64, 128, kernel_size=(3, 3), stride=(2, 2), padding=(1, 1), bias=False)\n",
       "      (bn1): BatchNorm2d(128, eps=1e-05, momentum=0.1, affine=True, track_running_stats=True)\n",
       "      (relu): ReLU(inplace=True)\n",
       "      (conv2): Conv2d(128, 128, kernel_size=(3, 3), stride=(1, 1), padding=(1, 1), bias=False)\n",
       "      (bn2): BatchNorm2d(128, eps=1e-05, momentum=0.1, affine=True, track_running_stats=True)\n",
       "      (downsample): Sequential(\n",
       "        (0): Conv2d(64, 128, kernel_size=(1, 1), stride=(2, 2), bias=False)\n",
       "        (1): BatchNorm2d(128, eps=1e-05, momentum=0.1, affine=True, track_running_stats=True)\n",
       "      )\n",
       "    )\n",
       "    (1): BasicBlock(\n",
       "      (conv1): Conv2d(128, 128, kernel_size=(3, 3), stride=(1, 1), padding=(1, 1), bias=False)\n",
       "      (bn1): BatchNorm2d(128, eps=1e-05, momentum=0.1, affine=True, track_running_stats=True)\n",
       "      (relu): ReLU(inplace=True)\n",
       "      (conv2): Conv2d(128, 128, kernel_size=(3, 3), stride=(1, 1), padding=(1, 1), bias=False)\n",
       "      (bn2): BatchNorm2d(128, eps=1e-05, momentum=0.1, affine=True, track_running_stats=True)\n",
       "    )\n",
       "  )\n",
       "  (layer3): Sequential(\n",
       "    (0): BasicBlock(\n",
       "      (conv1): Conv2d(128, 256, kernel_size=(3, 3), stride=(2, 2), padding=(1, 1), bias=False)\n",
       "      (bn1): BatchNorm2d(256, eps=1e-05, momentum=0.1, affine=True, track_running_stats=True)\n",
       "      (relu): ReLU(inplace=True)\n",
       "      (conv2): Conv2d(256, 256, kernel_size=(3, 3), stride=(1, 1), padding=(1, 1), bias=False)\n",
       "      (bn2): BatchNorm2d(256, eps=1e-05, momentum=0.1, affine=True, track_running_stats=True)\n",
       "      (downsample): Sequential(\n",
       "        (0): Conv2d(128, 256, kernel_size=(1, 1), stride=(2, 2), bias=False)\n",
       "        (1): BatchNorm2d(256, eps=1e-05, momentum=0.1, affine=True, track_running_stats=True)\n",
       "      )\n",
       "    )\n",
       "    (1): BasicBlock(\n",
       "      (conv1): Conv2d(256, 256, kernel_size=(3, 3), stride=(1, 1), padding=(1, 1), bias=False)\n",
       "      (bn1): BatchNorm2d(256, eps=1e-05, momentum=0.1, affine=True, track_running_stats=True)\n",
       "      (relu): ReLU(inplace=True)\n",
       "      (conv2): Conv2d(256, 256, kernel_size=(3, 3), stride=(1, 1), padding=(1, 1), bias=False)\n",
       "      (bn2): BatchNorm2d(256, eps=1e-05, momentum=0.1, affine=True, track_running_stats=True)\n",
       "    )\n",
       "  )\n",
       "  (layer4): Sequential(\n",
       "    (0): BasicBlock(\n",
       "      (conv1): Conv2d(256, 512, kernel_size=(3, 3), stride=(2, 2), padding=(1, 1), bias=False)\n",
       "      (bn1): BatchNorm2d(512, eps=1e-05, momentum=0.1, affine=True, track_running_stats=True)\n",
       "      (relu): ReLU(inplace=True)\n",
       "      (conv2): Conv2d(512, 512, kernel_size=(3, 3), stride=(1, 1), padding=(1, 1), bias=False)\n",
       "      (bn2): BatchNorm2d(512, eps=1e-05, momentum=0.1, affine=True, track_running_stats=True)\n",
       "      (downsample): Sequential(\n",
       "        (0): Conv2d(256, 512, kernel_size=(1, 1), stride=(2, 2), bias=False)\n",
       "        (1): BatchNorm2d(512, eps=1e-05, momentum=0.1, affine=True, track_running_stats=True)\n",
       "      )\n",
       "    )\n",
       "    (1): BasicBlock(\n",
       "      (conv1): Conv2d(512, 512, kernel_size=(3, 3), stride=(1, 1), padding=(1, 1), bias=False)\n",
       "      (bn1): BatchNorm2d(512, eps=1e-05, momentum=0.1, affine=True, track_running_stats=True)\n",
       "      (relu): ReLU(inplace=True)\n",
       "      (conv2): Conv2d(512, 512, kernel_size=(3, 3), stride=(1, 1), padding=(1, 1), bias=False)\n",
       "      (bn2): BatchNorm2d(512, eps=1e-05, momentum=0.1, affine=True, track_running_stats=True)\n",
       "    )\n",
       "  )\n",
       "  (avgpool): AdaptiveAvgPool2d(output_size=(1, 1))\n",
       "  (fc): Sequential(\n",
       "    (0): Linear(in_features=512, out_features=256, bias=True)\n",
       "    (1): ReLU()\n",
       "    (2): Dropout(p=0.2, inplace=False)\n",
       "    (3): Linear(in_features=256, out_features=10, bias=True)\n",
       "  )\n",
       ")"
      ]
     },
     "execution_count": 19,
     "metadata": {
      "tags": []
     },
     "output_type": "execute_result"
    }
   ],
   "source": [
    "model_conv"
   ]
  },
  {
   "cell_type": "code",
   "execution_count": null,
   "metadata": {
    "colab": {
     "base_uri": "https://localhost:8080/"
    },
    "id": "i6h9i93PYsHm",
    "outputId": "98021d88-2b47-4ca2-8d39-50cc2f173c56"
   },
   "outputs": [
    {
     "name": "stdout",
     "output_type": "stream",
     "text": [
      "Epoch 0/19\n",
      "----------\n",
      "train Loss: 0.9048 Acc: 0.6956\n",
      "val Loss: 0.7281 Acc: 0.7568\n",
      "\n",
      "Epoch 1/19\n",
      "----------\n",
      "train Loss: 0.5763 Acc: 0.8108\n",
      "val Loss: 0.6638 Acc: 0.7833\n",
      "\n",
      "Epoch 2/19\n",
      "----------\n",
      "train Loss: 0.4396 Acc: 0.8582\n",
      "val Loss: 0.6056 Acc: 0.8044\n",
      "\n",
      "Epoch 3/19\n",
      "----------\n",
      "train Loss: 0.3410 Acc: 0.8901\n",
      "val Loss: 0.6584 Acc: 0.7987\n",
      "\n",
      "Epoch 4/19\n",
      "----------\n",
      "train Loss: 0.2579 Acc: 0.9160\n",
      "val Loss: 0.6215 Acc: 0.8162\n",
      "\n",
      "Epoch 5/19\n",
      "----------\n",
      "train Loss: 0.1955 Acc: 0.9362\n",
      "val Loss: 0.7562 Acc: 0.7927\n",
      "\n",
      "Epoch 6/19\n",
      "----------\n",
      "train Loss: 0.1543 Acc: 0.9506\n",
      "val Loss: 0.7628 Acc: 0.8054\n",
      "\n",
      "Epoch 7/19\n",
      "----------\n",
      "train Loss: 0.1296 Acc: 0.9582\n",
      "val Loss: 0.8068 Acc: 0.8017\n",
      "\n",
      "Epoch 8/19\n",
      "----------\n",
      "train Loss: 0.1083 Acc: 0.9639\n",
      "val Loss: 0.8313 Acc: 0.7984\n",
      "\n",
      "Epoch 9/19\n",
      "----------\n",
      "train Loss: 0.0929 Acc: 0.9698\n",
      "val Loss: 0.8137 Acc: 0.8099\n",
      "\n",
      "Epoch 10/19\n",
      "----------\n",
      "train Loss: 0.0814 Acc: 0.9744\n",
      "val Loss: 0.8583 Acc: 0.8041\n",
      "\n",
      "Epoch 11/19\n",
      "----------\n",
      "train Loss: 0.0721 Acc: 0.9771\n",
      "val Loss: 0.8911 Acc: 0.8090\n",
      "\n",
      "Epoch 12/19\n",
      "----------\n",
      "train Loss: 0.0657 Acc: 0.9784\n",
      "val Loss: 0.9048 Acc: 0.8067\n",
      "\n",
      "Epoch 13/19\n",
      "----------\n",
      "train Loss: 0.0638 Acc: 0.9791\n",
      "val Loss: 0.9460 Acc: 0.8056\n",
      "\n",
      "Epoch 14/19\n",
      "----------\n",
      "train Loss: 0.0597 Acc: 0.9805\n",
      "val Loss: 0.8638 Acc: 0.8076\n",
      "\n",
      "Epoch 15/19\n",
      "----------\n",
      "train Loss: 0.0517 Acc: 0.9834\n",
      "val Loss: 0.9165 Acc: 0.8109\n",
      "\n",
      "Epoch 16/19\n",
      "----------\n",
      "train Loss: 0.0466 Acc: 0.9847\n",
      "val Loss: 0.9890 Acc: 0.8132\n",
      "\n",
      "Epoch 17/19\n",
      "----------\n",
      "train Loss: 0.0442 Acc: 0.9864\n",
      "val Loss: 0.9693 Acc: 0.8050\n",
      "\n",
      "Epoch 18/19\n",
      "----------\n",
      "train Loss: 0.0399 Acc: 0.9871\n",
      "val Loss: 1.0145 Acc: 0.7989\n",
      "\n",
      "Epoch 19/19\n",
      "----------\n",
      "train Loss: 0.0427 Acc: 0.9864\n",
      "val Loss: 1.0234 Acc: 0.8062\n",
      "\n",
      "Training complete in 5m 60s\n",
      "Best val Acc: 0.816200\n"
     ]
    }
   ],
   "source": [
    "accuracy_conv = {'train': [], 'val': []}\n",
    "loss_conv = {'train': [], 'val': []}\n",
    "num_epochs = 20\n",
    "model_conv = train_model(model_conv, criterion, optimizer_conv, exp_lr_scheduler, num_epochs, accuracy_conv, loss_conv)"
   ]
  },
  {
   "cell_type": "code",
   "execution_count": null,
   "metadata": {
    "colab": {
     "base_uri": "https://localhost:8080/",
     "height": 299
    },
    "id": "KwLnficgWu_7",
    "outputId": "872be2a9-fe8c-4801-9782-754df36a8433"
   },
   "outputs": [
    {
     "data": {
      "text/plain": [
       "<matplotlib.legend.Legend at 0x7fd2c9f52a20>"
      ]
     },
     "execution_count": 21,
     "metadata": {
      "tags": []
     },
     "output_type": "execute_result"
    },
    {
     "data": {
      "image/png": "[encoded data removed]",
      "text/plain": [
       "<Figure size 432x288 with 1 Axes>"
      ]
     },
     "metadata": {
      "needs_background": "light",
      "tags": []
     },
     "output_type": "display_data"
    }
   ],
   "source": [
    "plt.plot(accuracy_conv['train'], label='Training Accuracy')\n",
    "plt.plot(accuracy_conv['val'], label='Validation Accuracy')\n",
    "plt.xlabel('Epochs')\n",
    "plt.ylabel('Accuracy')\n",
    "plt.legend()"
   ]
  },
  {
   "cell_type": "code",
   "execution_count": null,
   "metadata": {
    "colab": {
     "base_uri": "https://localhost:8080/",
     "height": 296
    },
    "id": "eleT6FAUWu2d",
    "outputId": "193e3ebe-4f88-478f-8a3d-9794e4bbf234"
   },
   "outputs": [
    {
     "data": {
      "text/plain": [
       "<matplotlib.legend.Legend at 0x7fd2c9ed17b8>"
      ]
     },
     "execution_count": 22,
     "metadata": {
      "tags": []
     },
     "output_type": "execute_result"
    },
    {
     "data": {
      "image/png": "[encoded data removed]",
      "text/plain": [
       "<Figure size 432x288 with 1 Axes>"
      ]
     },
     "metadata": {
      "needs_background": "light",
      "tags": []
     },
     "output_type": "display_data"
    }
   ],
   "source": [
    "plt.plot(loss_conv['train'], label='Training Loss')\n",
    "plt.plot(loss_conv['val'], label='Validation Loss')\n",
    "plt.xlabel('Epochs')\n",
    "plt.ylabel('Loss')\n",
    "plt.legend()"
   ]
  },
  {
   "cell_type": "code",
   "execution_count": null,
   "metadata": {
    "colab": {
     "base_uri": "https://localhost:8080/"
    },
    "id": "qogeBxYRY0gz",
    "outputId": "5aba0402-739f-46bb-8fea-1218636292ac"
   },
   "outputs": [
    {
     "name": "stdout",
     "output_type": "stream",
     "text": [
      "Training  Accuracy:   0.964\n",
      "Validation Accuracy:  0.816\n",
      "Testing Accuracy:     0.815\n"
     ]
    }
   ],
   "source": [
    "_, train_acc_conv = evaluate(model_conv, 'train')\n",
    "_, val_acc_conv = evaluate(model_conv, 'val')\n",
    "_, test_acc_conv = evaluate(model_conv, 'test')\n",
    "\n",
    "print('Training  Accuracy:   %.3f' % train_acc_conv)\n",
    "print('Validation Accuracy:  %.3f' % val_acc_conv)\n",
    "print('Testing Accuracy:     %.3f' % test_acc_conv)"
   ]
  },
  {
   "cell_type": "markdown",
   "metadata": {
    "id": "JtrQxkdlxmwR"
   },
   "source": [
    "CONVNET as fixed feature extractor(2)"
   ]
  },
  {
   "cell_type": "code",
   "execution_count": null,
   "metadata": {
    "id": "MitXYcBAx6lQ"
   },
   "outputs": [],
   "source": [
    "model_conv2 = torchvision.models.resnet18(pretrained=True)\n",
    "\n",
    "count = 0\n",
    "for name, child in model_conv.named_children():\n",
    "    count += 1\n",
    "    if count < 10:\n",
    "        for name2, params in child.named_parameters():\n",
    "            params.requires_grad = False\n",
    "\n",
    "num_ftrs = model_conv2.fc.in_features\n",
    "\n",
    "model_conv2.fc = nn.Sequential(\n",
    "    nn.Linear(num_ftrs, 256), nn.ReLU(), nn.Dropout(0.2),\n",
    "    nn.Linear(256, 10))\n",
    "\n",
    "# model_conv.fc = nn.Linear(num_ftrs, 10)\n",
    "\n",
    "model_conv2 = model_conv2.to(device)\n",
    "\n",
    "criterion = nn.CrossEntropyLoss()\n",
    "\n",
    "optimizer_conv2 = optim.Adam(model_conv2.parameters(), lr=0.001)\n",
    "\n",
    "exp_lr_scheduler = optim.lr_scheduler.CosineAnnealingLR(optimizer_conv2, T_max=200)"
   ]
  },
  {
   "cell_type": "code",
   "execution_count": null,
   "metadata": {
    "colab": {
     "base_uri": "https://localhost:8080/"
    },
    "id": "3RGFn4Zsx6lS",
    "outputId": "4aaceec0-68c2-4a9e-d0d7-40ab3a9cb254"
   },
   "outputs": [
    {
     "data": {
      "text/plain": [
       "ResNet(\n",
       "  (conv1): Conv2d(3, 64, kernel_size=(7, 7), stride=(2, 2), padding=(3, 3), bias=False)\n",
       "  (bn1): BatchNorm2d(64, eps=1e-05, momentum=0.1, affine=True, track_running_stats=True)\n",
       "  (relu): ReLU(inplace=True)\n",
       "  (maxpool): MaxPool2d(kernel_size=3, stride=2, padding=1, dilation=1, ceil_mode=False)\n",
       "  (layer1): Sequential(\n",
       "    (0): BasicBlock(\n",
       "      (conv1): Conv2d(64, 64, kernel_size=(3, 3), stride=(1, 1), padding=(1, 1), bias=False)\n",
       "      (bn1): BatchNorm2d(64, eps=1e-05, momentum=0.1, affine=True, track_running_stats=True)\n",
       "      (relu): ReLU(inplace=True)\n",
       "      (conv2): Conv2d(64, 64, kernel_size=(3, 3), stride=(1, 1), padding=(1, 1), bias=False)\n",
       "      (bn2): BatchNorm2d(64, eps=1e-05, momentum=0.1, affine=True, track_running_stats=True)\n",
       "    )\n",
       "    (1): BasicBlock(\n",
       "      (conv1): Conv2d(64, 64, kernel_size=(3, 3), stride=(1, 1), padding=(1, 1), bias=False)\n",
       "      (bn1): BatchNorm2d(64, eps=1e-05, momentum=0.1, affine=True, track_running_stats=True)\n",
       "      (relu): ReLU(inplace=True)\n",
       "      (conv2): Conv2d(64, 64, kernel_size=(3, 3), stride=(1, 1), padding=(1, 1), bias=False)\n",
       "      (bn2): BatchNorm2d(64, eps=1e-05, momentum=0.1, affine=True, track_running_stats=True)\n",
       "    )\n",
       "  )\n",
       "  (layer2): Sequential(\n",
       "    (0): BasicBlock(\n",
       "      (conv1): Conv2d(64, 128, kernel_size=(3, 3), stride=(2, 2), padding=(1, 1), bias=False)\n",
       "      (bn1): BatchNorm2d(128, eps=1e-05, momentum=0.1, affine=True, track_running_stats=True)\n",
       "      (relu): ReLU(inplace=True)\n",
       "      (conv2): Conv2d(128, 128, kernel_size=(3, 3), stride=(1, 1), padding=(1, 1), bias=False)\n",
       "      (bn2): BatchNorm2d(128, eps=1e-05, momentum=0.1, affine=True, track_running_stats=True)\n",
       "      (downsample): Sequential(\n",
       "        (0): Conv2d(64, 128, kernel_size=(1, 1), stride=(2, 2), bias=False)\n",
       "        (1): BatchNorm2d(128, eps=1e-05, momentum=0.1, affine=True, track_running_stats=True)\n",
       "      )\n",
       "    )\n",
       "    (1): BasicBlock(\n",
       "      (conv1): Conv2d(128, 128, kernel_size=(3, 3), stride=(1, 1), padding=(1, 1), bias=False)\n",
       "      (bn1): BatchNorm2d(128, eps=1e-05, momentum=0.1, affine=True, track_running_stats=True)\n",
       "      (relu): ReLU(inplace=True)\n",
       "      (conv2): Conv2d(128, 128, kernel_size=(3, 3), stride=(1, 1), padding=(1, 1), bias=False)\n",
       "      (bn2): BatchNorm2d(128, eps=1e-05, momentum=0.1, affine=True, track_running_stats=True)\n",
       "    )\n",
       "  )\n",
       "  (layer3): Sequential(\n",
       "    (0): BasicBlock(\n",
       "      (conv1): Conv2d(128, 256, kernel_size=(3, 3), stride=(2, 2), padding=(1, 1), bias=False)\n",
       "      (bn1): BatchNorm2d(256, eps=1e-05, momentum=0.1, affine=True, track_running_stats=True)\n",
       "      (relu): ReLU(inplace=True)\n",
       "      (conv2): Conv2d(256, 256, kernel_size=(3, 3), stride=(1, 1), padding=(1, 1), bias=False)\n",
       "      (bn2): BatchNorm2d(256, eps=1e-05, momentum=0.1, affine=True, track_running_stats=True)\n",
       "      (downsample): Sequential(\n",
       "        (0): Conv2d(128, 256, kernel_size=(1, 1), stride=(2, 2), bias=False)\n",
       "        (1): BatchNorm2d(256, eps=1e-05, momentum=0.1, affine=True, track_running_stats=True)\n",
       "      )\n",
       "    )\n",
       "    (1): BasicBlock(\n",
       "      (conv1): Conv2d(256, 256, kernel_size=(3, 3), stride=(1, 1), padding=(1, 1), bias=False)\n",
       "      (bn1): BatchNorm2d(256, eps=1e-05, momentum=0.1, affine=True, track_running_stats=True)\n",
       "      (relu): ReLU(inplace=True)\n",
       "      (conv2): Conv2d(256, 256, kernel_size=(3, 3), stride=(1, 1), padding=(1, 1), bias=False)\n",
       "      (bn2): BatchNorm2d(256, eps=1e-05, momentum=0.1, affine=True, track_running_stats=True)\n",
       "    )\n",
       "  )\n",
       "  (layer4): Sequential(\n",
       "    (0): BasicBlock(\n",
       "      (conv1): Conv2d(256, 512, kernel_size=(3, 3), stride=(2, 2), padding=(1, 1), bias=False)\n",
       "      (bn1): BatchNorm2d(512, eps=1e-05, momentum=0.1, affine=True, track_running_stats=True)\n",
       "      (relu): ReLU(inplace=True)\n",
       "      (conv2): Conv2d(512, 512, kernel_size=(3, 3), stride=(1, 1), padding=(1, 1), bias=False)\n",
       "      (bn2): BatchNorm2d(512, eps=1e-05, momentum=0.1, affine=True, track_running_stats=True)\n",
       "      (downsample): Sequential(\n",
       "        (0): Conv2d(256, 512, kernel_size=(1, 1), stride=(2, 2), bias=False)\n",
       "        (1): BatchNorm2d(512, eps=1e-05, momentum=0.1, affine=True, track_running_stats=True)\n",
       "      )\n",
       "    )\n",
       "    (1): BasicBlock(\n",
       "      (conv1): Conv2d(512, 512, kernel_size=(3, 3), stride=(1, 1), padding=(1, 1), bias=False)\n",
       "      (bn1): BatchNorm2d(512, eps=1e-05, momentum=0.1, affine=True, track_running_stats=True)\n",
       "      (relu): ReLU(inplace=True)\n",
       "      (conv2): Conv2d(512, 512, kernel_size=(3, 3), stride=(1, 1), padding=(1, 1), bias=False)\n",
       "      (bn2): BatchNorm2d(512, eps=1e-05, momentum=0.1, affine=True, track_running_stats=True)\n",
       "    )\n",
       "  )\n",
       "  (avgpool): AdaptiveAvgPool2d(output_size=(1, 1))\n",
       "  (fc): Sequential(\n",
       "    (0): Linear(in_features=512, out_features=256, bias=True)\n",
       "    (1): ReLU()\n",
       "    (2): Dropout(p=0.2, inplace=False)\n",
       "    (3): Linear(in_features=256, out_features=10, bias=True)\n",
       "  )\n",
       ")"
      ]
     },
     "execution_count": 25,
     "metadata": {
      "tags": []
     },
     "output_type": "execute_result"
    }
   ],
   "source": [
    "model_conv2"
   ]
  },
  {
   "cell_type": "code",
   "execution_count": null,
   "metadata": {
    "colab": {
     "base_uri": "https://localhost:8080/"
    },
    "id": "SipQ80p0x6lY",
    "outputId": "472c267d-31ca-4fed-ece7-e0387e5fa938"
   },
   "outputs": [
    {
     "name": "stdout",
     "output_type": "stream",
     "text": [
      "Epoch 0/19\n",
      "----------\n",
      "train Loss: 0.9605 Acc: 0.6800\n",
      "val Loss: 0.8378 Acc: 0.7196\n",
      "\n",
      "Epoch 1/19\n",
      "----------\n",
      "train Loss: 0.6389 Acc: 0.7899\n",
      "val Loss: 0.7524 Acc: 0.7481\n",
      "\n",
      "Epoch 2/19\n",
      "----------\n",
      "train Loss: 0.4930 Acc: 0.8365\n",
      "val Loss: 0.6369 Acc: 0.7932\n",
      "\n",
      "Epoch 3/19\n",
      "----------\n",
      "train Loss: 0.3943 Acc: 0.8695\n",
      "val Loss: 0.6729 Acc: 0.7916\n",
      "\n",
      "Epoch 4/19\n",
      "----------\n",
      "train Loss: 0.3152 Acc: 0.8997\n",
      "val Loss: 0.6898 Acc: 0.7923\n",
      "\n",
      "Epoch 5/19\n",
      "----------\n",
      "train Loss: 0.2498 Acc: 0.9193\n",
      "val Loss: 0.6682 Acc: 0.8008\n",
      "\n",
      "Epoch 6/19\n",
      "----------\n",
      "train Loss: 0.2150 Acc: 0.9297\n",
      "val Loss: 0.7107 Acc: 0.7972\n",
      "\n",
      "Epoch 7/19\n",
      "----------\n",
      "train Loss: 0.1642 Acc: 0.9470\n",
      "val Loss: 0.7426 Acc: 0.7957\n",
      "\n",
      "Epoch 8/19\n",
      "----------\n",
      "train Loss: 0.1399 Acc: 0.9548\n",
      "val Loss: 0.7873 Acc: 0.7920\n",
      "\n",
      "Epoch 9/19\n",
      "----------\n",
      "train Loss: 0.1275 Acc: 0.9588\n",
      "val Loss: 0.7861 Acc: 0.7973\n",
      "\n",
      "Epoch 10/19\n",
      "----------\n",
      "train Loss: 0.1089 Acc: 0.9650\n",
      "val Loss: 0.8387 Acc: 0.8013\n",
      "\n",
      "Epoch 11/19\n",
      "----------\n",
      "val Loss: 0.9368 Acc: 0.8002\n",
      "\n",
      "Epoch 12/19\n",
      "----------\n",
      "train Loss: 0.0874 Acc: 0.9708\n",
      "val Loss: 0.8617 Acc: 0.7974\n",
      "\n",
      "Epoch 13/19\n",
      "----------\n",
      "train Loss: 0.0805 Acc: 0.9739\n",
      "val Loss: 0.9125 Acc: 0.8031\n",
      "\n",
      "Epoch 14/19\n",
      "----------\n",
      "train Loss: 0.0711 Acc: 0.9766\n",
      "val Loss: 0.8798 Acc: 0.8011\n",
      "\n",
      "Epoch 15/19\n",
      "----------\n",
      "train Loss: 0.0650 Acc: 0.9778\n",
      "val Loss: 0.8761 Acc: 0.7990\n",
      "\n",
      "Epoch 16/19\n",
      "----------\n",
      "train Loss: 0.0611 Acc: 0.9801\n",
      "val Loss: 0.9274 Acc: 0.8050\n",
      "\n",
      "Epoch 17/19\n",
      "----------\n",
      "train Loss: 0.0613 Acc: 0.9804\n",
      "val Loss: 0.8930 Acc: 0.8083\n",
      "\n",
      "Epoch 18/19\n",
      "----------\n",
      "train Loss: 0.0603 Acc: 0.9812\n",
      "val Loss: 0.8701 Acc: 0.8057\n",
      "\n",
      "Epoch 19/19\n",
      "----------\n",
      "train Loss: 0.0501 Acc: 0.9836\n",
      "val Loss: 0.9853 Acc: 0.8030\n",
      "\n",
      "Training complete in 6m 24s\n",
      "Best val Acc: 0.808300\n"
     ]
    }
   ],
   "source": [
    "accuracy_conv2 = {'train': [], 'val': []}\n",
    "loss_conv2 = {'train': [], 'val': []}\n",
    "num_epochs = 20\n",
    "model_conv2 = train_model(model_conv2, criterion, optimizer_conv2, exp_lr_scheduler, num_epochs, accuracy_conv2, loss_conv2)"
   ]
  },
  {
   "cell_type": "code",
   "execution_count": null,
   "metadata": {
    "colab": {
     "base_uri": "https://localhost:8080/",
     "height": 296
    },
    "id": "ud7oAdu7x6la",
    "outputId": "06812afa-902a-4cdd-8167-16ff95a64804"
   },
   "outputs": [
    {
     "data": {
      "text/plain": [
       "<matplotlib.legend.Legend at 0x7fd2c9d44e48>"
      ]
     },
     "execution_count": 27,
     "metadata": {
      "tags": []
     },
     "output_type": "execute_result"
    },
    {
     "data": {
      "image/png": "[encoded data removed]",
      "text/plain": [
       "<Figure size 432x288 with 1 Axes>"
      ]
     },
     "metadata": {
      "needs_background": "light",
      "tags": []
     },
     "output_type": "display_data"
    }
   ],
   "source": [
    "plt.plot(accuracy_conv2['train'], label='Training Accuracy')\n",
    "plt.plot(accuracy_conv2['val'], label='Validation Accuracy')\n",
    "plt.xlabel('Epochs')\n",
    "plt.ylabel('Accuracy')\n",
    "plt.legend()"
   ]
  },
  {
   "cell_type": "code",
   "execution_count": null,
   "metadata": {
    "colab": {
     "base_uri": "https://localhost:8080/",
     "height": 296
    },
    "id": "LfKO0H_Lx6lb",
    "outputId": "52851bfa-cb48-466e-857a-350acc213f00"
   },
   "outputs": [
    {
     "data": {
      "text/plain": [
       "<matplotlib.legend.Legend at 0x7fd2c9d06780>"
      ]
     },
     "execution_count": 28,
     "metadata": {
      "tags": []
     },
     "output_type": "execute_result"
    },
    {
     "data": {
      "image/png": "[encoded data removed]",
      "text/plain": [
       "<Figure size 432x288 with 1 Axes>"
      ]
     },
     "metadata": {
      "needs_background": "light",
      "tags": []
     },
     "output_type": "display_data"
    }
   ],
   "source": [
    "plt.plot(loss_conv2['train'], label='Training Loss')\n",
    "plt.plot(loss_conv2['val'], label='Validation Loss')\n",
    "plt.xlabel('Epochs')\n",
    "plt.ylabel('Loss')\n",
    "plt.legend()"
   ]
  },
  {
   "cell_type": "code",
   "execution_count": null,
   "metadata": {
    "colab": {
     "base_uri": "https://localhost:8080/"
    },
    "id": "FkcdAXgYx6lb",
    "outputId": "65acf4d6-4e1f-4eb1-d33f-d79895b8ca0f"
   },
   "outputs": [
    {
     "name": "stdout",
     "output_type": "stream",
     "text": [
      "Training  Accuracy:   0.990\n",
      "Validation Accuracy:  0.808\n",
      "Testing Accuracy:     0.805\n"
     ]
    }
   ],
   "source": [
    "_, train_acc_2 = evaluate(model_conv2, 'train')\n",
    "_, val_acc_2 = evaluate(model_conv2, 'val')\n",
    "_, test_acc_2 = evaluate(model_conv2, 'test')\n",
    "\n",
    "print('Training  Accuracy:   %.3f' % train_acc_2)\n",
    "print('Validation Accuracy:  %.3f' % val_acc_2)\n",
    "print('Testing Accuracy:     %.3f' % test_acc_2)"
   ]
  },
  {
   "cell_type": "markdown",
   "metadata": {
    "id": "ZCZy8J30wHMn"
   },
   "source": [
    "Comparing above results"
   ]
  },
  {
   "cell_type": "code",
   "execution_count": null,
   "metadata": {
    "colab": {
     "base_uri": "https://localhost:8080/",
     "height": 296
    },
    "id": "PVvLWaJ0YkHh",
    "outputId": "22ec173b-a692-4fb2-9149-d12b16e781b9"
   },
   "outputs": [
    {
     "data": {
      "text/plain": [
       "<matplotlib.legend.Legend at 0x7fd2c9dcea20>"
      ]
     },
     "execution_count": 31,
     "metadata": {
      "tags": []
     },
     "output_type": "execute_result"
    },
    {
     "data": {
      "image/png": "[encoded data removed]",
      "text/plain": [
       "<Figure size 432x288 with 1 Axes>"
      ]
     },
     "metadata": {
      "needs_background": "light",
      "tags": []
     },
     "output_type": "display_data"
    }
   ],
   "source": [
    "plt.plot(accuracy_ft['train'], label='Unfreezed Layers')\n",
    "plt.plot(accuracy_rn['train'], label='From scratch')\n",
    "plt.plot(accuracy_conv['train'], label='6 Freezed layers')\n",
    "plt.plot(accuracy_conv2['train'], label='10 Freezed layers')\n",
    "plt.xlabel('Epochs')\n",
    "plt.ylabel('Training Accuracy')\n",
    "plt.legend()"
   ]
  },
  {
   "cell_type": "code",
   "execution_count": null,
   "metadata": {
    "colab": {
     "base_uri": "https://localhost:8080/",
     "height": 296
    },
    "id": "mTRbSdd8wiPy",
    "outputId": "fd334780-20fd-4791-e5e7-2bb130e940ac"
   },
   "outputs": [
    {
     "data": {
      "text/plain": [
       "<matplotlib.legend.Legend at 0x7fd2c9c95e48>"
      ]
     },
     "execution_count": 32,
     "metadata": {
      "tags": []
     },
     "output_type": "execute_result"
    },
    {
     "data": {
      "image/png": "[encoded data removed]",
      "text/plain": [
       "<Figure size 432x288 with 1 Axes>"
      ]
     },
     "metadata": {
      "needs_background": "light",
      "tags": []
     },
     "output_type": "display_data"
    }
   ],
   "source": [
    "plt.plot(accuracy_ft['val'], label='Unfreezed Layers')\n",
    "plt.plot(accuracy_rn['val'], label='From scratch')\n",
    "plt.plot(accuracy_conv['val'], label='6 Freezed layers')\n",
    "plt.plot(accuracy_conv2['val'], label='10 Freezed layers')\n",
    "plt.xlabel('Epochs')\n",
    "plt.ylabel('Validation Accuracy')\n",
    "plt.legend()"
   ]
  },
  {
   "cell_type": "markdown",
   "metadata": {
    "id": "xkQGoYmMAJCF"
   },
   "source": [
    "# Part 3"
   ]
  },
  {
   "cell_type": "markdown",
   "metadata": {
    "id": "CzABM6L-JUXX"
   },
   "source": [
    "Mini CIFAR-10 with Data Augmentation"
   ]
  },
  {
   "cell_type": "code",
   "execution_count": null,
   "metadata": {
    "colab": {
     "base_uri": "https://localhost:8080/"
    },
    "id": "YMH-nnm0APtE",
    "outputId": "7f085c21-fe88-48be-e1e1-d620d1eb7b8c"
   },
   "outputs": [
    {
     "name": "stdout",
     "output_type": "stream",
     "text": [
      "Files already downloaded and verified\n",
      "Files already downloaded and verified\n"
     ]
    }
   ],
   "source": [
    "torch.manual_seed(43)\n",
    "\n",
    "train_transform = transforms.Compose([\n",
    "    transforms.Resize(224),\n",
    "    transforms.RandomHorizontalFlip(p=.40),\n",
    "    transforms.RandomRotation(30),\n",
    "    transforms.ToTensor(),\n",
    "    transforms.Normalize([0.485, 0.456, 0.406], [0.229, 0.224, 0.225])])\n",
    "\n",
    "test_transform = transforms.Compose([\n",
    "    transforms.Resize(224),\n",
    "    transforms.ToTensor(),\n",
    "    transforms.Normalize([0.485, 0.456, 0.406], [0.229, 0.224, 0.225])])\n",
    "\n",
    "dataset = torchvision.datasets.CIFAR10(root='./data', train=True, download=True, transform=train_transform)\n",
    "train_ds, val_ds = random_split(dataset, [5000, 45000])\n",
    "test_ds = torchvision.datasets.CIFAR10(root='./data', train=False, download=True, transform=test_transform)\n",
    "\n",
    "image_datasets = {'train': train_ds, 'val': test_ds, 'test': test_ds}\n",
    "\n",
    "batch_size = 128\n",
    "train_loader = torch.utils.data.DataLoader(train_ds, batch_size, shuffle=True, num_workers=4, pin_memory=True)\n",
    "val_loader = torch.utils.data.DataLoader(test_ds, batch_size*2, num_workers=4, pin_memory=True)\n",
    "test_loader = torch.utils.data.DataLoader(test_ds, batch_size*2, num_workers=4, pin_memory=True)\n",
    "\n",
    "dataloaders = {'train': train_loader, 'val': val_loader, 'test': test_loader}\n",
    "dataset_sizes = {x: len(image_datasets[x]) for x in ['train', 'val', 'test']}\n",
    "\n",
    "classes = ('plane', 'car', 'bird', 'cat', 'deer',\n",
    "           'dog', 'frog', 'horse', 'ship', 'truck')\n",
    "device = torch.device(\"cuda:0\" if torch.cuda.is_available() else \"cpu\")"
   ]
  },
  {
   "cell_type": "markdown",
   "metadata": {
    "id": "hKjsteAJJXFk"
   },
   "source": [
    "Varying Droprates"
   ]
  },
  {
   "cell_type": "code",
   "execution_count": null,
   "metadata": {
    "id": "jLGTbchgQcCV"
   },
   "outputs": [],
   "source": [
    "droprates = [0.1, 0.2, 0.3, 0.4]\n",
    "train_acc = []\n",
    "test_acc = []"
   ]
  },
  {
   "cell_type": "code",
   "execution_count": null,
   "metadata": {
    "colab": {
     "base_uri": "https://localhost:8080/"
    },
    "id": "eQEME2CiQRFt",
    "outputId": "e8d8c31f-a80d-4d33-dc42-9c93ab5eaa39"
   },
   "outputs": [
    {
     "name": "stdout",
     "output_type": "stream",
     "text": [
      "Epoch 0/9\n",
      "----------\n",
      "train Loss: 2.0250 Acc: 0.2556\n",
      "val Loss: 1.9848 Acc: 0.2891\n",
      "\n",
      "Epoch 1/9\n",
      "----------\n",
      "train Loss: 1.7941 Acc: 0.3228\n",
      "val Loss: 1.7955 Acc: 0.3424\n",
      "\n",
      "Epoch 2/9\n",
      "----------\n",
      "train Loss: 1.6489 Acc: 0.4042\n",
      "val Loss: 1.8763 Acc: 0.3162\n",
      "\n",
      "Epoch 3/9\n",
      "----------\n",
      "train Loss: 1.5805 Acc: 0.4256\n",
      "val Loss: 1.5551 Acc: 0.4232\n",
      "\n",
      "Epoch 4/9\n",
      "----------\n",
      "train Loss: 1.4838 Acc: 0.4472\n",
      "val Loss: 1.8402 Acc: 0.3970\n",
      "\n",
      "Epoch 5/9\n",
      "----------\n",
      "train Loss: 1.4555 Acc: 0.4620\n",
      "val Loss: 1.5305 Acc: 0.4237\n",
      "\n",
      "Epoch 6/9\n",
      "----------\n",
      "train Loss: 1.3921 Acc: 0.4882\n",
      "val Loss: 1.5987 Acc: 0.4242\n",
      "\n",
      "Epoch 7/9\n",
      "----------\n",
      "train Loss: 1.3583 Acc: 0.4984\n",
      "val Loss: 1.3439 Acc: 0.5098\n",
      "\n",
      "Epoch 8/9\n",
      "----------\n",
      "train Loss: 1.3322 Acc: 0.5160\n",
      "val Loss: 1.3896 Acc: 0.4986\n",
      "\n",
      "Epoch 9/9\n",
      "----------\n",
      "train Loss: 1.2530 Acc: 0.5402\n",
      "val Loss: 1.5263 Acc: 0.4708\n",
      "\n",
      "Training complete in 6m 3s\n",
      "Best val Acc: 0.509800\n",
      "Training  Accuracy:   0.525\n",
      "Testing Accuracy:     0.510\n",
      "Epoch 0/9\n",
      "----------\n",
      "train Loss: 1.9890 Acc: 0.2734\n",
      "val Loss: 2.0590 Acc: 0.2975\n",
      "\n",
      "Epoch 1/9\n",
      "----------\n",
      "train Loss: 1.7638 Acc: 0.3436\n",
      "val Loss: 1.7982 Acc: 0.3407\n",
      "\n",
      "Epoch 2/9\n",
      "----------\n",
      "train Loss: 1.6595 Acc: 0.3850\n",
      "val Loss: 1.8569 Acc: 0.3710\n",
      "\n",
      "Epoch 3/9\n",
      "----------\n",
      "train Loss: 1.5719 Acc: 0.4216\n",
      "val Loss: 1.6093 Acc: 0.3953\n",
      "\n",
      "Epoch 4/9\n",
      "----------\n",
      "train Loss: 1.5399 Acc: 0.4282\n",
      "val Loss: 1.5917 Acc: 0.4127\n",
      "\n",
      "Epoch 5/9\n",
      "----------\n",
      "train Loss: 1.4920 Acc: 0.4326\n",
      "val Loss: 1.5794 Acc: 0.4247\n",
      "\n",
      "Epoch 6/9\n",
      "----------\n",
      "train Loss: 1.4318 Acc: 0.4680\n",
      "val Loss: 1.4214 Acc: 0.4747\n",
      "\n",
      "Epoch 7/9\n",
      "----------\n",
      "train Loss: 1.3548 Acc: 0.5094\n",
      "val Loss: 1.4041 Acc: 0.4785\n",
      "\n",
      "Epoch 8/9\n",
      "----------\n",
      "train Loss: 1.2777 Acc: 0.5362\n",
      "val Loss: 1.5608 Acc: 0.4608\n",
      "\n",
      "Epoch 9/9\n",
      "----------\n",
      "train Loss: 1.2367 Acc: 0.5486\n",
      "val Loss: 1.3898 Acc: 0.4995\n",
      "\n",
      "Training complete in 6m 3s\n",
      "Best val Acc: 0.499500\n",
      "Training  Accuracy:   0.526\n",
      "Testing Accuracy:     0.499\n",
      "Epoch 0/9\n",
      "----------\n",
      "train Loss: 2.0200 Acc: 0.2748\n",
      "val Loss: 2.1032 Acc: 0.2876\n",
      "\n",
      "Epoch 1/9\n",
      "----------\n",
      "train Loss: 1.7870 Acc: 0.3368\n",
      "val Loss: 2.1406 Acc: 0.3099\n",
      "\n",
      "Epoch 2/9\n",
      "----------\n",
      "train Loss: 1.6924 Acc: 0.3740\n",
      "val Loss: 1.8233 Acc: 0.3439\n",
      "\n",
      "Epoch 3/9\n",
      "----------\n",
      "train Loss: 1.6275 Acc: 0.3908\n",
      "val Loss: 1.5593 Acc: 0.4312\n",
      "\n",
      "Epoch 4/9\n",
      "----------\n",
      "train Loss: 1.5163 Acc: 0.4382\n",
      "val Loss: 1.5520 Acc: 0.4323\n",
      "\n",
      "Epoch 5/9\n",
      "----------\n",
      "train Loss: 1.4647 Acc: 0.4542\n",
      "val Loss: 1.7417 Acc: 0.4052\n",
      "\n",
      "Epoch 6/9\n",
      "----------\n",
      "train Loss: 1.4042 Acc: 0.4854\n",
      "val Loss: 1.3387 Acc: 0.5084\n",
      "\n",
      "Epoch 7/9\n",
      "----------\n",
      "train Loss: 1.3297 Acc: 0.5098\n",
      "val Loss: 1.4113 Acc: 0.5004\n",
      "\n",
      "Epoch 8/9\n",
      "----------\n",
      "train Loss: 1.2417 Acc: 0.5372\n",
      "val Loss: 1.5213 Acc: 0.4727\n",
      "\n",
      "Epoch 9/9\n",
      "----------\n",
      "train Loss: 1.1661 Acc: 0.5802\n",
      "val Loss: 1.3837 Acc: 0.5045\n",
      "\n",
      "Training complete in 6m 1s\n",
      "Best val Acc: 0.508400\n",
      "Training  Accuracy:   0.518\n",
      "Testing Accuracy:     0.508\n",
      "Epoch 0/9\n",
      "----------\n",
      "train Loss: 2.0122 Acc: 0.2702\n",
      "val Loss: 2.1565 Acc: 0.2709\n",
      "\n",
      "Epoch 1/9\n",
      "----------\n",
      "train Loss: 1.7995 Acc: 0.3272\n",
      "val Loss: 1.9458 Acc: 0.3380\n",
      "\n",
      "Epoch 2/9\n",
      "----------\n",
      "train Loss: 1.6932 Acc: 0.3682\n",
      "val Loss: 1.8358 Acc: 0.3073\n",
      "\n",
      "Epoch 3/9\n",
      "----------\n",
      "train Loss: 1.5865 Acc: 0.4140\n",
      "val Loss: 1.6677 Acc: 0.3928\n",
      "\n",
      "Epoch 4/9\n",
      "----------\n",
      "train Loss: 1.5150 Acc: 0.4376\n",
      "val Loss: 1.5091 Acc: 0.4568\n",
      "\n",
      "Epoch 5/9\n",
      "----------\n",
      "train Loss: 1.4168 Acc: 0.4810\n",
      "val Loss: 1.4434 Acc: 0.4830\n",
      "\n",
      "Epoch 6/9\n",
      "----------\n",
      "train Loss: 1.3437 Acc: 0.5098\n",
      "val Loss: 1.4371 Acc: 0.4739\n",
      "\n",
      "Epoch 7/9\n",
      "----------\n",
      "train Loss: 1.2604 Acc: 0.5430\n",
      "val Loss: 1.3924 Acc: 0.5033\n",
      "\n",
      "Epoch 8/9\n",
      "----------\n",
      "train Loss: 1.2592 Acc: 0.5344\n",
      "val Loss: 1.3114 Acc: 0.5141\n",
      "\n",
      "Epoch 9/9\n",
      "----------\n",
      "train Loss: 1.1778 Acc: 0.5740\n",
      "val Loss: 1.2855 Acc: 0.5463\n",
      "\n",
      "Training complete in 5m 60s\n",
      "Best val Acc: 0.546300\n",
      "Training  Accuracy:   0.583\n",
      "Testing Accuracy:     0.546\n"
     ]
    }
   ],
   "source": [
    "for droprate in droprates:\n",
    "    model_ft = models.resnet18(pretrained=False)\n",
    "    num_ftrs = model_ft.fc.in_features\n",
    "\n",
    "    model_ft.fc = nn.Sequential(\n",
    "        nn.Dropout(droprate),\n",
    "        nn.Linear(num_ftrs, 10))\n",
    "\n",
    "    model_ft = model_ft.to(device)\n",
    "    criterion = nn.CrossEntropyLoss()\n",
    "    optimizer_ft = optim.Adam(model_ft.parameters(), lr=0.001)\n",
    "    exp_lr_scheduler = optim.lr_scheduler.CosineAnnealingLR(optimizer_ft, T_max=200)\n",
    "\n",
    "    accuracy_ft = {'train': [], 'val': []}\n",
    "    loss_ft = {'train': [], 'val': []}\n",
    "    num_epochs = 10\n",
    "    model_ft = train_model(model_ft, criterion, optimizer_ft, exp_lr_scheduler, num_epochs, accuracy_ft, loss_ft)\n",
    "\n",
    "    _, train_acc_ft = evaluate(model_ft, 'train')\n",
    "    # _, val_acc_ft = evaluate(model_ft, 'val')\n",
    "    _, test_acc_ft = evaluate(model_ft, 'test')\n",
    "\n",
    "    print('Training  Accuracy:   %.3f' % train_acc_ft)\n",
    "    # print('Validation Accuracy:  %.3f' % val_acc_ft)\n",
    "    print('Testing Accuracy:     %.3f' % test_acc_ft)\n",
    "    train_acc.append(train_acc_ft)\n",
    "    test_acc.append(test_acc_ft)"
   ]
  },
  {
   "cell_type": "code",
   "execution_count": null,
   "metadata": {
    "colab": {
     "base_uri": "https://localhost:8080/",
     "height": 296
    },
    "id": "_zNrfgyzGqDm",
    "outputId": "0704d124-38f1-47e9-d9df-9d85c3a70473"
   },
   "outputs": [
    {
     "data": {
      "text/plain": [
       "<matplotlib.legend.Legend at 0x7fd2c9c2fb70>"
      ]
     },
     "execution_count": 36,
     "metadata": {
      "tags": []
     },
     "output_type": "execute_result"
    },
    {
     "data": {
      "image/png": "[encoded data removed]",
      "text/plain": [
       "<Figure size 432x288 with 1 Axes>"
      ]
     },
     "metadata": {
      "needs_background": "light",
      "tags": []
     },
     "output_type": "display_data"
    }
   ],
   "source": [
    "plt.plot(droprates, train_acc, label='Training Accuracy')\n",
    "plt.plot(droprates, test_acc, label='Test Accuracy')\n",
    "plt.xlabel('Dropout Rate')\n",
    "plt.ylabel('Accuracy')\n",
    "plt.legend()"
   ]
  },
  {
   "cell_type": "markdown",
   "metadata": {
    "id": "v0XaVjLsJaqj"
   },
   "source": [
    "# Final Model"
   ]
  },
  {
   "cell_type": "code",
   "execution_count": null,
   "metadata": {
    "id": "P8KZJ4szJmcA"
   },
   "outputs": [],
   "source": [
    "model_ft = models.resnet18(pretrained=False)\n",
    "droprate = 0.3\n",
    "num_ftrs = model_ft.fc.in_features\n",
    "\n",
    "# model_rn.fc = nn.Linear(num_ftrs, 10)\n",
    "\n",
    "model_ft.fc = nn.Sequential(\n",
    "    nn.Dropout(droprate),\n",
    "    nn.Linear(num_ftrs, 10))\n",
    "\n",
    "model_ft = model_ft.to(device)\n",
    "criterion = nn.CrossEntropyLoss()\n",
    "optimizer_ft = optim.Adam(model_ft.parameters(), lr=0.001)\n",
    "exp_lr_scheduler = optim.lr_scheduler.CosineAnnealingLR(optimizer_ft, T_max=200)"
   ]
  },
  {
   "cell_type": "code",
   "execution_count": null,
   "metadata": {
    "colab": {
     "base_uri": "https://localhost:8080/"
    },
    "id": "e3xmAh9XJmcA",
    "outputId": "4440c968-9046-4dcc-9bba-f1cc4b27327c"
   },
   "outputs": [
    {
     "name": "stdout",
     "output_type": "stream",
     "text": [
      "Epoch 0/49\n",
      "----------\n",
      "train Loss: 1.4827 Acc: 0.4682\n",
      "val Loss: 1.4013 Acc: 0.5152\n",
      "\n",
      "Epoch 1/49\n",
      "----------\n",
      "train Loss: 1.0693 Acc: 0.6244\n",
      "val Loss: 1.0688 Acc: 0.6193\n",
      "\n",
      "Epoch 2/49\n",
      "----------\n",
      "train Loss: 0.8749 Acc: 0.6943\n",
      "val Loss: 1.0452 Acc: 0.6346\n",
      "\n",
      "Epoch 3/49\n",
      "----------\n",
      "train Loss: 0.7538 Acc: 0.7379\n",
      "val Loss: 0.8420 Acc: 0.7062\n",
      "\n",
      "Epoch 4/49\n",
      "----------\n",
      "train Loss: 0.6288 Acc: 0.7818\n",
      "val Loss: 0.9187 Acc: 0.6937\n",
      "\n",
      "Epoch 5/49\n",
      "----------\n",
      "train Loss: 0.5363 Acc: 0.8133\n",
      "val Loss: 0.8307 Acc: 0.7288\n",
      "\n",
      "Epoch 6/49\n",
      "----------\n",
      "train Loss: 0.4387 Acc: 0.8491\n",
      "val Loss: 0.8511 Acc: 0.7271\n",
      "\n",
      "Epoch 7/49\n",
      "----------\n",
      "train Loss: 0.3655 Acc: 0.8728\n",
      "val Loss: 0.9374 Acc: 0.7189\n",
      "\n",
      "Epoch 8/49\n",
      "----------\n",
      "train Loss: 0.3045 Acc: 0.8944\n",
      "val Loss: 0.9322 Acc: 0.7250\n",
      "\n",
      "Epoch 9/49\n",
      "----------\n",
      "train Loss: 0.2464 Acc: 0.9124\n",
      "val Loss: 0.9721 Acc: 0.7290\n",
      "\n",
      "Epoch 10/49\n",
      "----------\n",
      "train Loss: 0.1976 Acc: 0.9337\n",
      "val Loss: 1.0187 Acc: 0.7210\n",
      "\n",
      "Epoch 11/49\n",
      "----------\n",
      "train Loss: 0.1740 Acc: 0.9393\n",
      "val Loss: 1.1337 Acc: 0.7145\n",
      "\n",
      "Epoch 12/49\n",
      "----------\n",
      "train Loss: 0.1462 Acc: 0.9495\n",
      "val Loss: 1.1550 Acc: 0.7303\n",
      "\n",
      "Epoch 13/49\n",
      "----------\n",
      "train Loss: 0.1288 Acc: 0.9557\n",
      "val Loss: 1.1482 Acc: 0.7260\n",
      "\n",
      "Epoch 14/49\n",
      "----------\n",
      "train Loss: 0.1063 Acc: 0.9636\n",
      "val Loss: 1.2094 Acc: 0.7290\n",
      "\n",
      "Epoch 15/49\n",
      "----------\n",
      "train Loss: 0.1047 Acc: 0.9649\n",
      "val Loss: 1.2273 Acc: 0.7270\n",
      "\n",
      "Epoch 16/49\n",
      "----------\n",
      "train Loss: 0.0919 Acc: 0.9684\n",
      "val Loss: 1.2479 Acc: 0.7311\n",
      "\n",
      "Epoch 17/49\n",
      "----------\n",
      "train Loss: 0.0898 Acc: 0.9685\n",
      "val Loss: 1.2643 Acc: 0.7354\n",
      "\n",
      "Epoch 18/49\n",
      "----------\n",
      "train Loss: 0.0856 Acc: 0.9701\n",
      "val Loss: 1.3207 Acc: 0.7305\n",
      "\n",
      "Epoch 19/49\n",
      "----------\n",
      "train Loss: 0.0826 Acc: 0.9706\n",
      "val Loss: 1.3267 Acc: 0.7349\n",
      "\n",
      "Epoch 20/49\n",
      "----------\n",
      "train Loss: 0.0689 Acc: 0.9769\n",
      "val Loss: 1.3001 Acc: 0.7418\n",
      "\n",
      "Epoch 21/49\n",
      "----------\n",
      "train Loss: 0.0663 Acc: 0.9773\n",
      "val Loss: 1.3321 Acc: 0.7411\n",
      "\n",
      "Epoch 22/49\n",
      "----------\n",
      "train Loss: 0.0650 Acc: 0.9781\n",
      "val Loss: 1.3313 Acc: 0.7360\n",
      "\n",
      "Epoch 23/49\n",
      "----------\n",
      "train Loss: 0.0647 Acc: 0.9779\n",
      "val Loss: 1.3408 Acc: 0.7378\n",
      "\n",
      "Epoch 24/49\n",
      "----------\n",
      "train Loss: 0.0510 Acc: 0.9821\n",
      "val Loss: 1.4410 Acc: 0.7369\n",
      "\n",
      "Epoch 25/49\n",
      "----------\n",
      "train Loss: 0.0625 Acc: 0.9796\n",
      "val Loss: 1.3901 Acc: 0.7350\n",
      "\n",
      "Epoch 26/49\n",
      "----------\n",
      "train Loss: 0.0513 Acc: 0.9823\n",
      "val Loss: 1.4910 Acc: 0.7324\n",
      "\n",
      "Epoch 27/49\n",
      "----------\n",
      "train Loss: 0.0503 Acc: 0.9828\n",
      "val Loss: 1.4852 Acc: 0.7355\n",
      "\n",
      "Epoch 28/49\n",
      "----------\n",
      "train Loss: 0.0525 Acc: 0.9825\n",
      "val Loss: 1.4553 Acc: 0.7286\n",
      "\n",
      "Epoch 29/49\n",
      "----------\n",
      "train Loss: 0.0474 Acc: 0.9837\n",
      "val Loss: 1.5252 Acc: 0.7350\n",
      "\n",
      "Epoch 30/49\n",
      "----------\n",
      "train Loss: 0.0483 Acc: 0.9834\n",
      "val Loss: 1.5094 Acc: 0.7402\n",
      "\n",
      "Epoch 31/49\n",
      "----------\n",
      "train Loss: 0.0457 Acc: 0.9846\n",
      "val Loss: 1.5556 Acc: 0.7352\n",
      "\n",
      "Epoch 32/49\n",
      "----------\n",
      "train Loss: 0.0473 Acc: 0.9843\n",
      "val Loss: 1.4881 Acc: 0.7394\n",
      "\n",
      "Epoch 33/49\n",
      "----------\n",
      "train Loss: 0.0392 Acc: 0.9876\n",
      "val Loss: 1.4906 Acc: 0.7383\n",
      "\n",
      "Epoch 34/49\n",
      "----------\n",
      "train Loss: 0.0397 Acc: 0.9862\n",
      "val Loss: 1.4396 Acc: 0.7518\n",
      "\n",
      "Epoch 35/49\n",
      "----------\n",
      "train Loss: 0.0325 Acc: 0.9895\n",
      "val Loss: 1.5801 Acc: 0.7395\n",
      "\n",
      "Epoch 36/49\n",
      "----------\n",
      "train Loss: 0.0383 Acc: 0.9871\n",
      "val Loss: 1.6482 Acc: 0.7368\n",
      "\n",
      "Epoch 37/49\n",
      "----------\n",
      "train Loss: 0.0384 Acc: 0.9864\n",
      "val Loss: 1.5669 Acc: 0.7363\n",
      "\n",
      "Epoch 38/49\n",
      "----------\n",
      "train Loss: 0.0318 Acc: 0.9899\n",
      "val Loss: 1.5438 Acc: 0.7439\n",
      "\n",
      "Epoch 39/49\n",
      "----------\n",
      "train Loss: 0.0341 Acc: 0.9885\n",
      "val Loss: 1.6172 Acc: 0.7319\n",
      "\n",
      "Epoch 40/49\n",
      "----------\n",
      "train Loss: 0.0376 Acc: 0.9873\n",
      "val Loss: 1.5504 Acc: 0.7414\n",
      "\n",
      "Epoch 41/49\n",
      "----------\n",
      "train Loss: 0.0306 Acc: 0.9894\n",
      "val Loss: 1.6546 Acc: 0.7362\n",
      "\n",
      "Epoch 42/49\n",
      "----------\n",
      "train Loss: 0.0354 Acc: 0.9885\n",
      "val Loss: 1.4859 Acc: 0.7456\n",
      "\n",
      "Epoch 43/49\n",
      "----------\n",
      "train Loss: 0.0263 Acc: 0.9910\n",
      "val Loss: 1.5454 Acc: 0.7470\n",
      "\n",
      "Epoch 44/49\n",
      "----------\n",
      "train Loss: 0.0297 Acc: 0.9898\n",
      "val Loss: 1.5337 Acc: 0.7460\n",
      "\n",
      "Epoch 45/49\n",
      "----------\n",
      "train Loss: 0.0247 Acc: 0.9922\n",
      "val Loss: 1.6112 Acc: 0.7449\n",
      "\n",
      "Epoch 46/49\n",
      "----------\n",
      "train Loss: 0.0272 Acc: 0.9907\n",
      "val Loss: 1.6532 Acc: 0.7391\n",
      "\n",
      "Epoch 47/49\n",
      "----------\n",
      "train Loss: 0.0284 Acc: 0.9904\n",
      "val Loss: 1.6311 Acc: 0.7429\n",
      "\n",
      "Epoch 48/49\n",
      "----------\n",
      "train Loss: 0.0233 Acc: 0.9923\n",
      "val Loss: 1.6443 Acc: 0.7452\n",
      "\n",
      "Epoch 49/49\n",
      "----------\n",
      "train Loss: 0.0272 Acc: 0.9905\n",
      "val Loss: 1.5579 Acc: 0.7473\n",
      "\n",
      "Training complete in 15m 20s\n",
      "Best val Acc: 0.751800\n"
     ]
    }
   ],
   "source": [
    "accuracy_ft = {'train': [], 'val': []}\n",
    "loss_ft = {'train': [], 'val': []}\n",
    "num_epochs = 50\n",
    "model_ft = train_model(model_ft, criterion, optimizer_ft, exp_lr_scheduler, num_epochs, accuracy_ft, loss_ft)"
   ]
  },
  {
   "cell_type": "code",
   "execution_count": null,
   "metadata": {
    "colab": {
     "base_uri": "https://localhost:8080/",
     "height": 296
    },
    "id": "VEd6EgG0JmcB",
    "outputId": "95c7b43e-a72a-453b-f814-1ac35ea2125c"
   },
   "outputs": [
    {
     "data": {
      "text/plain": [
       "<matplotlib.legend.Legend at 0x7fc1fec8e0f0>"
      ]
     },
     "execution_count": 9,
     "metadata": {
      "tags": []
     },
     "output_type": "execute_result"
    },
    {
     "data": {
      "image/png": "[encoded data removed]",
      "text/plain": [
       "<Figure size 432x288 with 1 Axes>"
      ]
     },
     "metadata": {
      "needs_background": "light",
      "tags": []
     },
     "output_type": "display_data"
    }
   ],
   "source": [
    "plt.plot(accuracy_ft['train'], label='Training Accuracy')\n",
    "plt.plot(accuracy_ft['val'], label='Validation Accuracy')\n",
    "plt.xlabel('Epochs')\n",
    "plt.ylabel('Accuracy')\n",
    "plt.legend()"
   ]
  },
  {
   "cell_type": "code",
   "execution_count": null,
   "metadata": {
    "colab": {
     "base_uri": "https://localhost:8080/",
     "height": 296
    },
    "id": "-xdL3gbyJmcB",
    "outputId": "c2dd07b1-fa16-4710-abd7-eed57d2e9c4f"
   },
   "outputs": [
    {
     "data": {
      "text/plain": [
       "<matplotlib.legend.Legend at 0x7fc1f6628f98>"
      ]
     },
     "execution_count": 10,
     "metadata": {
      "tags": []
     },
     "output_type": "execute_result"
    },
    {
     "data": {
      "image/png": "[encoded data removed]",
      "text/plain": [
       "<Figure size 432x288 with 1 Axes>"
      ]
     },
     "metadata": {
      "needs_background": "light",
      "tags": []
     },
     "output_type": "display_data"
    }
   ],
   "source": [
    "plt.plot(loss_ft['train'], label='Training Loss')\n",
    "plt.plot(loss_ft['val'], label='Validation Loss')\n",
    "plt.xlabel('Epochs')\n",
    "plt.ylabel('Loss')\n",
    "plt.legend()"
   ]
  },
  {
   "cell_type": "code",
   "execution_count": null,
   "metadata": {
    "colab": {
     "base_uri": "https://localhost:8080/"
    },
    "id": "hrz9_4UeJmcC",
    "outputId": "4b2aa034-fbf6-4d83-9b4e-aa9f009a28ce"
   },
   "outputs": [
    {
     "name": "stdout",
     "output_type": "stream",
     "text": [
      "Training  Accuracy:   0.995\n",
      "Validation Accuracy:  0.752\n",
      "Testing Accuracy:     0.753\n"
     ]
    }
   ],
   "source": [
    "_, train_acc_ft = evaluate(model_ft, 'train')\n",
    "_, val_acc_ft = evaluate(model_ft, 'val')\n",
    "_, test_acc_ft = evaluate(model_ft, 'test')\n",
    "\n",
    "print('Training  Accuracy:   %.3f' % train_acc_ft)\n",
    "print('Validation Accuracy:  %.3f' % val_acc_ft)\n",
    "print('Testing Accuracy:     %.3f' % test_acc_ft)"
   ]
  },
  {
   "cell_type": "markdown",
   "metadata": {
    "id": "62BdOk9NNHvD"
   },
   "source": [
    "# Part 4\n"
   ]
  },
  {
   "cell_type": "markdown",
   "metadata": {
    "id": "bS0qTLA5NQeW"
   },
   "source": [
    "Visualizing Activations"
   ]
  },
  {
   "cell_type": "code",
   "execution_count": null,
   "metadata": {
    "id": "SJuwOpSkZhhz"
   },
   "outputs": [],
   "source": [
    "from keras.layers import Input,InputLayer, Dense, Activation, ZeroPadding2D, BatchNormalization, Flatten, Conv2D\n",
    "from keras.layers import AveragePooling2D, MaxPooling2D, Dropout\n",
    "from keras.models import Sequential,Model\n",
    "from keras.optimizers import SGD\n",
    "from keras.callbacks import ModelCheckpoint,LearningRateScheduler\n",
    "from keras.datasets import cifar10\n",
    "from keras.utils import to_categorical\n",
    "import keras\n",
    "from keras import backend as K\n",
    "import tensorflow as tf"
   ]
  },
  {
   "cell_type": "code",
   "execution_count": null,
   "metadata": {
    "id": "uI76VuJ1fpuv"
   },
   "outputs": [],
   "source": [
    "new_input = Input(shape=(32, 32, 3))\n",
    "\n",
    "model_rn = tf.keras.applications.ResNet50(\n",
    "    include_top=True,\n",
    "    weights='imagenet',\n",
    "    input_tensor=new_input,\n",
    "    input_shape=None,\n",
    "    pooling=None,\n",
    "    classes=1000,\n",
    ")\n",
    "\n",
    "model = Sequential()\n",
    "model.add(model_rn)\n",
    "model.add(Dense(10))"
   ]
  },
  {
   "cell_type": "code",
   "execution_count": null,
   "metadata": {
    "id": "T3p6gJlmftVg"
   },
   "outputs": [],
   "source": [
    "(trainX, trainY), (testX, testY) = cifar10.load_data()\n",
    "\n",
    "trainX1 = trainX.astype('float32')\n",
    "testX1 = testX.astype('float32')\n",
    "\n",
    "trainX1 = trainX1 / 255.0\n",
    "testX1 = testX1 / 255.0\n",
    "trainY1 = to_categorical(trainY)\n",
    "testY1 = to_categorical(testY)"
   ]
  },
  {
   "cell_type": "code",
   "execution_count": null,
   "metadata": {
    "id": "TcGGJoOhfuK3"
   },
   "outputs": [],
   "source": [
    "model.summary()"
   ]
  },
  {
   "cell_type": "code",
   "execution_count": null,
   "metadata": {
    "id": "FZyBpZfIsPuj"
   },
   "outputs": [],
   "source": [
    "col_size = 8\n",
    "row_size = 8\n",
    "layer_num = 2"
   ]
  },
  {
   "cell_type": "code",
   "execution_count": null,
   "metadata": {
    "colab": {
     "base_uri": "https://localhost:8080/",
     "height": 739
    },
    "id": "TChhTj_ZfyjU",
    "outputId": "1aad61ff-804b-40f7-9ffa-a966292a0ca7"
   },
   "outputs": [
    {
     "name": "stdout",
     "output_type": "stream",
     "text": [
      "WARNING:tensorflow:6 out of the last 17 calls to <function Model.make_predict_function.<locals>.predict_function at 0x7f879019a400> triggered tf.function retracing. Tracing is expensive and the excessive number of tracings could be due to (1) creating @tf.function repeatedly in a loop, (2) passing tensors with different shapes, (3) passing Python objects instead of tensors. For (1), please define your @tf.function outside of the loop. For (2), @tf.function has experimental_relax_shapes=True option that relaxes argument shapes that can avoid unnecessary retracing. For (3), please refer to https://www.tensorflow.org/tutorials/customization/performance#python_or_tensor_args and https://www.tensorflow.org/api_docs/python/tf/function for  more details.\n"
     ]
    },
    {
     "data": {
      "image/png": "[encoded data removed]",
      "text/plain": [
       "<Figure size 1440x864 with 64 Axes>"
      ]
     },
     "metadata": {
      "needs_background": "light",
      "tags": []
     },
     "output_type": "display_data"
    }
   ],
   "source": [
    "from keras.models import Model\n",
    "layer_outputs = []\n",
    "for layer in model.layers:\n",
    "    layer_outputs.append(layer.output)\n",
    "\n",
    "visual_model = Model(inputs=model.input, outputs=layer_outputs)\n",
    "\n",
    "activations = visual_model.predict(trainX1[1700].reshape(1,32,32,3))\n",
    " \n",
    "activation = activations[layer_num]\n",
    "channel_num = 0\n",
    "fig, ax = plt.subplots(row_size, col_size, figsize=(row_size*2.5,col_size*1.5))\n",
    "\n",
    "for row in range(0,row_size):\n",
    "    for col in range(0,col_size):\n",
    "        ax[row][col].imshow(activation[0, :, :, channel_num], cmap='Blues')\n",
    "        channel_num += 1"
   ]
  },
  {
   "cell_type": "code",
   "execution_count": null,
   "metadata": {
    "colab": {
     "base_uri": "https://localhost:8080/",
     "height": 266
    },
    "id": "FnXWtkxpf4ad",
    "outputId": "4f2514c1-debb-441c-bf81-92df24e31973"
   },
   "outputs": [
    {
     "data": {
      "image/png": "[encoded data removed]",
      "text/plain": [
       "<Figure size 432x288 with 1 Axes>"
      ]
     },
     "metadata": {
      "needs_background": "light",
      "tags": []
     },
     "output_type": "display_data"
    }
   ],
   "source": [
    "import matplotlib.pyplot as plt\n",
    "plt.imshow(trainX1[1700][:,:,:]);"
   ]
  },
  {
   "cell_type": "code",
   "execution_count": null,
   "metadata": {
    "colab": {
     "base_uri": "https://localhost:8080/",
     "height": 298
    },
    "id": "gT9TFwiKY9aK",
    "outputId": "8355eab0-8a23-4e28-c3e6-3dddc0bed0c6"
   },
   "outputs": [
    {
     "name": "stdout",
     "output_type": "stream",
     "text": [
      "No. of filters- 64\n"
     ]
    },
    {
     "data": {
      "text/plain": [
       "<matplotlib.image.AxesImage at 0x7f8790f09198>"
      ]
     },
     "execution_count": 140,
     "metadata": {
      "tags": []
     },
     "output_type": "execute_result"
    },
    {
     "data": {
      "image/png": "[encoded data removed]",
      "text/plain": [
       "<Figure size 432x288 with 1 Axes>"
      ]
     },
     "metadata": {
      "needs_background": "light",
      "tags": []
     },
     "output_type": "display_data"
    }
   ],
   "source": [
    "layer_num = 2\n",
    "channel_num = 45\n",
    "\n",
    "activations = activation_model.predict(trainX1[1700].reshape(1,32,32,3))\n",
    "activation = activations[layer_num]\n",
    "print('No. of filters-', len(activation[0][0][0]))\n",
    "plt.imshow(activation[0, :, :, channel_num], cmap='Blues')"
   ]
  },
  {
   "cell_type": "markdown",
   "metadata": {
    "id": "w-piNPmS4F5H"
   },
   "source": [
    "NOTE - \n",
    "\n",
    "There are few parts of the assignment where we discussed some aspects with another group (Sarthak Garg, Varun Gupta and Gauri Gupta). This was on a collaborative level, such as sending some links to PyTorch tutorials and Transfer learning tutorials. In no way have copied, cheated or violated the code of conduct.\n"
   ]
  }
 ],
 "metadata": {
  "accelerator": "GPU",
  "colab": {
   "collapsed_sections": [],
   "name": "Assignment_3",
   "provenance": []
  },
  "kernelspec": {
   "display_name": "Python 3",
   "language": "python",
   "name": "python3"
  },
  "language_info": {
   "codemirror_mode": {
    "name": "ipython",
    "version": 3
   },
   "file_extension": ".py",
   "mimetype": "text/x-python",
   "name": "python",
   "nbconvert_exporter": "python",
   "pygments_lexer": "ipython3",
   "version": "3.6.9"
  },
  "widgets": {
   "application/vnd.jupyter.widget-state+json": {
    "0595cc0e772b4673849fffcba4ccace1": {
     "model_module": "@jupyter-widgets/controls",
     "model_name": "HBoxModel",
     "state": {
      "_dom_classes": [],
      "_model_module": "@jupyter-widgets/controls",
      "_model_module_version": "1.5.0",
      "_model_name": "HBoxModel",
      "_view_count": null,
      "_view_module": "@jupyter-widgets/controls",
      "_view_module_version": "1.5.0",
      "_view_name": "HBoxView",
      "box_style": "",
      "children": [
       "IPY_MODEL_0bb3cf2a8e7548cca6a8fc200077f6b9",
       "IPY_MODEL_9e8dfa99184f45d3ba30a58c81308f7c"
      ],
      "layout": "IPY_MODEL_686021657a814eeba7651866fb9b23aa"
     }
    },
    "0bb3cf2a8e7548cca6a8fc200077f6b9": {
     "model_module": "@jupyter-widgets/controls",
     "model_name": "FloatProgressModel",
     "state": {
      "_dom_classes": [],
      "_model_module": "@jupyter-widgets/controls",
      "_model_module_version": "1.5.0",
      "_model_name": "FloatProgressModel",
      "_view_count": null,
      "_view_module": "@jupyter-widgets/controls",
      "_view_module_version": "1.5.0",
      "_view_name": "ProgressView",
      "bar_style": "success",
      "description": "100%",
      "description_tooltip": null,
      "layout": "IPY_MODEL_979d5d1807864943a702ed944bf913fd",
      "max": 46827520,
      "min": 0,
      "orientation": "horizontal",
      "style": "IPY_MODEL_7a05dd463bda4d50b3bd8433c33adb39",
      "value": 46827520
     }
    },
    "355a3b34ab834e0cbc8a224f39f1e3ff": {
     "model_module": "@jupyter-widgets/base",
     "model_name": "LayoutModel",
     "state": {
      "_model_module": "@jupyter-widgets/base",
      "_model_module_version": "1.2.0",
      "_model_name": "LayoutModel",
      "_view_count": null,
      "_view_module": "@jupyter-widgets/base",
      "_view_module_version": "1.2.0",
      "_view_name": "LayoutView",
      "align_content": null,
      "align_items": null,
      "align_self": null,
      "border": null,
      "bottom": null,
      "display": null,
      "flex": null,
      "flex_flow": null,
      "grid_area": null,
      "grid_auto_columns": null,
      "grid_auto_flow": null,
      "grid_auto_rows": null,
      "grid_column": null,
      "grid_gap": null,
      "grid_row": null,
      "grid_template_areas": null,
      "grid_template_columns": null,
      "grid_template_rows": null,
      "height": null,
      "justify_content": null,
      "justify_items": null,
      "left": null,
      "margin": null,
      "max_height": null,
      "max_width": null,
      "min_height": null,
      "min_width": null,
      "object_fit": null,
      "object_position": null,
      "order": null,
      "overflow": null,
      "overflow_x": null,
      "overflow_y": null,
      "padding": null,
      "right": null,
      "top": null,
      "visibility": null,
      "width": null
     }
    },
    "52ff5fb834764380ba6e98f432dee458": {
     "model_module": "@jupyter-widgets/controls",
     "model_name": "DescriptionStyleModel",
     "state": {
      "_model_module": "@jupyter-widgets/controls",
      "_model_module_version": "1.5.0",
      "_model_name": "DescriptionStyleModel",
      "_view_count": null,
      "_view_module": "@jupyter-widgets/base",
      "_view_module_version": "1.2.0",
      "_view_name": "StyleView",
      "description_width": ""
     }
    },
    "686021657a814eeba7651866fb9b23aa": {
     "model_module": "@jupyter-widgets/base",
     "model_name": "LayoutModel",
     "state": {
      "_model_module": "@jupyter-widgets/base",
      "_model_module_version": "1.2.0",
      "_model_name": "LayoutModel",
      "_view_count": null,
      "_view_module": "@jupyter-widgets/base",
      "_view_module_version": "1.2.0",
      "_view_name": "LayoutView",
      "align_content": null,
      "align_items": null,
      "align_self": null,
      "border": null,
      "bottom": null,
      "display": null,
      "flex": null,
      "flex_flow": null,
      "grid_area": null,
      "grid_auto_columns": null,
      "grid_auto_flow": null,
      "grid_auto_rows": null,
      "grid_column": null,
      "grid_gap": null,
      "grid_row": null,
      "grid_template_areas": null,
      "grid_template_columns": null,
      "grid_template_rows": null,
      "height": null,
      "justify_content": null,
      "justify_items": null,
      "left": null,
      "margin": null,
      "max_height": null,
      "max_width": null,
      "min_height": null,
      "min_width": null,
      "object_fit": null,
      "object_position": null,
      "order": null,
      "overflow": null,
      "overflow_x": null,
      "overflow_y": null,
      "padding": null,
      "right": null,
      "top": null,
      "visibility": null,
      "width": null
     }
    },
    "6bf02340c9584edaba11acaab50ffddf": {
     "model_module": "@jupyter-widgets/controls",
     "model_name": "ProgressStyleModel",
     "state": {
      "_model_module": "@jupyter-widgets/controls",
      "_model_module_version": "1.5.0",
      "_model_name": "ProgressStyleModel",
      "_view_count": null,
      "_view_module": "@jupyter-widgets/base",
      "_view_module_version": "1.2.0",
      "_view_name": "StyleView",
      "bar_color": null,
      "description_width": "initial"
     }
    },
    "7a05dd463bda4d50b3bd8433c33adb39": {
     "model_module": "@jupyter-widgets/controls",
     "model_name": "ProgressStyleModel",
     "state": {
      "_model_module": "@jupyter-widgets/controls",
      "_model_module_version": "1.5.0",
      "_model_name": "ProgressStyleModel",
      "_view_count": null,
      "_view_module": "@jupyter-widgets/base",
      "_view_module_version": "1.2.0",
      "_view_name": "StyleView",
      "bar_color": null,
      "description_width": "initial"
     }
    },
    "8c7fd39696b14f1ca7aec87654efc6e0": {
     "model_module": "@jupyter-widgets/base",
     "model_name": "LayoutModel",
     "state": {
      "_model_module": "@jupyter-widgets/base",
      "_model_module_version": "1.2.0",
      "_model_name": "LayoutModel",
      "_view_count": null,
      "_view_module": "@jupyter-widgets/base",
      "_view_module_version": "1.2.0",
      "_view_name": "LayoutView",
      "align_content": null,
      "align_items": null,
      "align_self": null,
      "border": null,
      "bottom": null,
      "display": null,
      "flex": null,
      "flex_flow": null,
      "grid_area": null,
      "grid_auto_columns": null,
      "grid_auto_flow": null,
      "grid_auto_rows": null,
      "grid_column": null,
      "grid_gap": null,
      "grid_row": null,
      "grid_template_areas": null,
      "grid_template_columns": null,
      "grid_template_rows": null,
      "height": null,
      "justify_content": null,
      "justify_items": null,
      "left": null,
      "margin": null,
      "max_height": null,
      "max_width": null,
      "min_height": null,
      "min_width": null,
      "object_fit": null,
      "object_position": null,
      "order": null,
      "overflow": null,
      "overflow_x": null,
      "overflow_y": null,
      "padding": null,
      "right": null,
      "top": null,
      "visibility": null,
      "width": null
     }
    },
    "94333ea1c38e432a8859ef69e96ae6ca": {
     "model_module": "@jupyter-widgets/controls",
     "model_name": "HTMLModel",
     "state": {
      "_dom_classes": [],
      "_model_module": "@jupyter-widgets/controls",
      "_model_module_version": "1.5.0",
      "_model_name": "HTMLModel",
      "_view_count": null,
      "_view_module": "@jupyter-widgets/controls",
      "_view_module_version": "1.5.0",
      "_view_name": "HTMLView",
      "description": "",
      "description_tooltip": null,
      "layout": "IPY_MODEL_355a3b34ab834e0cbc8a224f39f1e3ff",
      "placeholder": "​",
      "style": "IPY_MODEL_52ff5fb834764380ba6e98f432dee458",
      "value": " 170500096/? [00:20&lt;00:00, 78433443.59it/s]"
     }
    },
    "954969f5f7294ef983f0f2a7d679ad49": {
     "model_module": "@jupyter-widgets/base",
     "model_name": "LayoutModel",
     "state": {
      "_model_module": "@jupyter-widgets/base",
      "_model_module_version": "1.2.0",
      "_model_name": "LayoutModel",
      "_view_count": null,
      "_view_module": "@jupyter-widgets/base",
      "_view_module_version": "1.2.0",
      "_view_name": "LayoutView",
      "align_content": null,
      "align_items": null,
      "align_self": null,
      "border": null,
      "bottom": null,
      "display": null,
      "flex": null,
      "flex_flow": null,
      "grid_area": null,
      "grid_auto_columns": null,
      "grid_auto_flow": null,
      "grid_auto_rows": null,
      "grid_column": null,
      "grid_gap": null,
      "grid_row": null,
      "grid_template_areas": null,
      "grid_template_columns": null,
      "grid_template_rows": null,
      "height": null,
      "justify_content": null,
      "justify_items": null,
      "left": null,
      "margin": null,
      "max_height": null,
      "max_width": null,
      "min_height": null,
      "min_width": null,
      "object_fit": null,
      "object_position": null,
      "order": null,
      "overflow": null,
      "overflow_x": null,
      "overflow_y": null,
      "padding": null,
      "right": null,
      "top": null,
      "visibility": null,
      "width": null
     }
    },
    "979d5d1807864943a702ed944bf913fd": {
     "model_module": "@jupyter-widgets/base",
     "model_name": "LayoutModel",
     "state": {
      "_model_module": "@jupyter-widgets/base",
      "_model_module_version": "1.2.0",
      "_model_name": "LayoutModel",
      "_view_count": null,
      "_view_module": "@jupyter-widgets/base",
      "_view_module_version": "1.2.0",
      "_view_name": "LayoutView",
      "align_content": null,
      "align_items": null,
      "align_self": null,
      "border": null,
      "bottom": null,
      "display": null,
      "flex": null,
      "flex_flow": null,
      "grid_area": null,
      "grid_auto_columns": null,
      "grid_auto_flow": null,
      "grid_auto_rows": null,
      "grid_column": null,
      "grid_gap": null,
      "grid_row": null,
      "grid_template_areas": null,
      "grid_template_columns": null,
      "grid_template_rows": null,
      "height": null,
      "justify_content": null,
      "justify_items": null,
      "left": null,
      "margin": null,
      "max_height": null,
      "max_width": null,
      "min_height": null,
      "min_width": null,
      "object_fit": null,
      "object_position": null,
      "order": null,
      "overflow": null,
      "overflow_x": null,
      "overflow_y": null,
      "padding": null,
      "right": null,
      "top": null,
      "visibility": null,
      "width": null
     }
    },
    "9e8dfa99184f45d3ba30a58c81308f7c": {
     "model_module": "@jupyter-widgets/controls",
     "model_name": "HTMLModel",
     "state": {
      "_dom_classes": [],
      "_model_module": "@jupyter-widgets/controls",
      "_model_module_version": "1.5.0",
      "_model_name": "HTMLModel",
      "_view_count": null,
      "_view_module": "@jupyter-widgets/controls",
      "_view_module_version": "1.5.0",
      "_view_name": "HTMLView",
      "description": "",
      "description_tooltip": null,
      "layout": "IPY_MODEL_954969f5f7294ef983f0f2a7d679ad49",
      "placeholder": "​",
      "style": "IPY_MODEL_ee353b4fe9b84ac8a390b4fd6774678f",
      "value": " 44.7M/44.7M [00:03&lt;00:00, 15.5MB/s]"
     }
    },
    "bfd2730391ff4339ace2a892675d51b1": {
     "model_module": "@jupyter-widgets/controls",
     "model_name": "FloatProgressModel",
     "state": {
      "_dom_classes": [],
      "_model_module": "@jupyter-widgets/controls",
      "_model_module_version": "1.5.0",
      "_model_name": "FloatProgressModel",
      "_view_count": null,
      "_view_module": "@jupyter-widgets/controls",
      "_view_module_version": "1.5.0",
      "_view_name": "ProgressView",
      "bar_style": "info",
      "description": "",
      "description_tooltip": null,
      "layout": "IPY_MODEL_ea0a89888c824c58b37b785995231455",
      "max": 1,
      "min": 0,
      "orientation": "horizontal",
      "style": "IPY_MODEL_6bf02340c9584edaba11acaab50ffddf",
      "value": 1
     }
    },
    "ea0a89888c824c58b37b785995231455": {
     "model_module": "@jupyter-widgets/base",
     "model_name": "LayoutModel",
     "state": {
      "_model_module": "@jupyter-widgets/base",
      "_model_module_version": "1.2.0",
      "_model_name": "LayoutModel",
      "_view_count": null,
      "_view_module": "@jupyter-widgets/base",
      "_view_module_version": "1.2.0",
      "_view_name": "LayoutView",
      "align_content": null,
      "align_items": null,
      "align_self": null,
      "border": null,
      "bottom": null,
      "display": null,
      "flex": null,
      "flex_flow": null,
      "grid_area": null,
      "grid_auto_columns": null,
      "grid_auto_flow": null,
      "grid_auto_rows": null,
      "grid_column": null,
      "grid_gap": null,
      "grid_row": null,
      "grid_template_areas": null,
      "grid_template_columns": null,
      "grid_template_rows": null,
      "height": null,
      "justify_content": null,
      "justify_items": null,
      "left": null,
      "margin": null,
      "max_height": null,
      "max_width": null,
      "min_height": null,
      "min_width": null,
      "object_fit": null,
      "object_position": null,
      "order": null,
      "overflow": null,
      "overflow_x": null,
      "overflow_y": null,
      "padding": null,
      "right": null,
      "top": null,
      "visibility": null,
      "width": null
     }
    },
    "ee353b4fe9b84ac8a390b4fd6774678f": {
     "model_module": "@jupyter-widgets/controls",
     "model_name": "DescriptionStyleModel",
     "state": {
      "_model_module": "@jupyter-widgets/controls",
      "_model_module_version": "1.5.0",
      "_model_name": "DescriptionStyleModel",
      "_view_count": null,
      "_view_module": "@jupyter-widgets/base",
      "_view_module_version": "1.2.0",
      "_view_name": "StyleView",
      "description_width": ""
     }
    },
    "fc8e62d7ceff4830908e1460b19845ad": {
     "model_module": "@jupyter-widgets/controls",
     "model_name": "HBoxModel",
     "state": {
      "_dom_classes": [],
      "_model_module": "@jupyter-widgets/controls",
      "_model_module_version": "1.5.0",
      "_model_name": "HBoxModel",
      "_view_count": null,
      "_view_module": "@jupyter-widgets/controls",
      "_view_module_version": "1.5.0",
      "_view_name": "HBoxView",
      "box_style": "",
      "children": [
       "IPY_MODEL_bfd2730391ff4339ace2a892675d51b1",
       "IPY_MODEL_94333ea1c38e432a8859ef69e96ae6ca"
      ],
      "layout": "IPY_MODEL_8c7fd39696b14f1ca7aec87654efc6e0"
     }
    }
   }
  }
 },
 "nbformat": 4,
 "nbformat_minor": 1
}
